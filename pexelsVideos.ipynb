{
 "cells": [
  {
   "cell_type": "code",
   "execution_count": null,
   "metadata": {},
   "outputs": [],
   "source": [
    "from selenium.webdriver import Chrome,Firefox"
   ]
  },
  {
   "cell_type": "code",
   "execution_count": null,
   "metadata": {},
   "outputs": [],
   "source": [
    "from selenium.webdriver.firefox.service import Service"
   ]
  },
  {
   "cell_type": "code",
   "execution_count": null,
   "metadata": {},
   "outputs": [],
   "source": [
    "from webdriver_manager.chrome import ChromeDriverManager"
   ]
  },
  {
   "cell_type": "code",
   "execution_count": null,
   "metadata": {},
   "outputs": [],
   "source": [
    "from selenium.webdriver.common.by import *"
   ]
  },
  {
   "cell_type": "code",
   "execution_count": null,
   "metadata": {},
   "outputs": [],
   "source": [
    "from selenium.webdriver.support.wait import WebDriverWait as Wait"
   ]
  },
  {
   "cell_type": "code",
   "execution_count": null,
   "metadata": {},
   "outputs": [],
   "source": [
    "from selenium.webdriver.support.wait import WebDriverWait"
   ]
  },
  {
   "cell_type": "code",
   "execution_count": null,
   "metadata": {},
   "outputs": [],
   "source": [
    "from selenium.webdriver.support.expected_conditions import *"
   ]
  },
  {
   "cell_type": "code",
   "execution_count": null,
   "metadata": {},
   "outputs": [],
   "source": [
    "from webdriver_manager.firefox import GeckoDriverManager as FireFoxDriverManager"
   ]
  },
  {
   "cell_type": "code",
   "execution_count": null,
   "metadata": {},
   "outputs": [],
   "source": [
    "from requests import get"
   ]
  },
  {
   "cell_type": "code",
   "execution_count": null,
   "metadata": {},
   "outputs": [],
   "source": [
    "from os import getcwd,makedirs\n",
    "from os.path import join,isdir"
   ]
  },
  {
   "cell_type": "code",
   "execution_count": null,
   "metadata": {},
   "outputs": [],
   "source": [
    "FireFoxDriverManager().install()"
   ]
  },
  {
   "cell_type": "code",
   "execution_count": null,
   "metadata": {},
   "outputs": [],
   "source": [
    "query = input()"
   ]
  },
  {
   "cell_type": "code",
   "execution_count": null,
   "metadata": {},
   "outputs": [],
   "source": [
    "url = f\"https://www.pexels.com/search/videos/{query}\""
   ]
  },
  {
   "cell_type": "code",
   "execution_count": null,
   "metadata": {},
   "outputs": [],
   "source": [
    "firefox = Firefox()"
   ]
  },
  {
   "cell_type": "code",
   "execution_count": null,
   "metadata": {},
   "outputs": [],
   "source": [
    "firefox.get(url)"
   ]
  },
  {
   "cell_type": "code",
   "execution_count": null,
   "metadata": {},
   "outputs": [],
   "source": [
    "video_group_tag = \"/html/body/div[2]/main/div[6]/div[1]/div\""
   ]
  },
  {
   "cell_type": "code",
   "execution_count": null,
   "metadata": {},
   "outputs": [],
   "source": [
    "count = int(input())"
   ]
  },
  {
   "cell_type": "code",
   "execution_count": null,
   "metadata": {},
   "outputs": [],
   "source": [
    "vid_gps = firefox.find_element(By.XPATH,video_group_tag)"
   ]
  },
  {
   "cell_type": "code",
   "execution_count": null,
   "metadata": {},
   "outputs": [],
   "source": [
    "video_elements = vid_gps.find_elements(By.TAG_NAME,\"article\")"
   ]
  },
  {
   "cell_type": "code",
   "execution_count": null,
   "metadata": {},
   "outputs": [],
   "source": [
    "videos = [(video.find_element(By.TAG_NAME,\"a\").get_attribute(\"href\").lstrip(\"https://www.pexels.com/video/\").rstrip(\"/\").removeprefix(\"-\"),video.find_element(By.TAG_NAME,\"video\").find_element(By.TAG_NAME,\"source\").get_attribute(\"src\")) for video in video_elements]"
   ]
  },
  {
   "cell_type": "code",
   "execution_count": null,
   "metadata": {},
   "outputs": [],
   "source": [
    "wait = WebDriverWait(firefox,3600,ignored_exceptions=(StaleElementReferenceException))"
   ]
  },
  {
   "cell_type": "code",
   "execution_count": null,
   "metadata": {},
   "outputs": [],
   "source": [
    "loading_spinner_xpath = \"/html/body/div[2]/main/div[6]/div[2]/div\"\n",
    "\n",
    "length = 0\n",
    "\n",
    "while length<count:\n",
    "    wait.until(invisibility_of_element_located((By.XPATH,loading_spinner_xpath)))\n",
    "    video_elements = vid_gps.find_elements(By.TAG_NAME,\"article\")\n",
    "    firefox.execute_script(\"window.scrollBy(0,100)\")\n",
    "    length = len(video_elements)\n",
    "    print(length)"
   ]
  },
  {
   "cell_type": "code",
   "execution_count": null,
   "metadata": {},
   "outputs": [],
   "source": [
    "videos = [(video.find_element(By.TAG_NAME,\"a\").get_attribute(\"href\").lstrip(\"https://www.pexels.com/video/\").rstrip(\"/\").removeprefix(\"-\"),video.find_element(By.TAG_NAME,\"video\").find_element(By.TAG_NAME,\"source\").get_attribute(\"src\")) for video in video_elements]"
   ]
  },
  {
   "cell_type": "code",
   "execution_count": null,
   "metadata": {},
   "outputs": [],
   "source": [
    "videos"
   ]
  },
  {
   "cell_type": "code",
   "execution_count": null,
   "metadata": {},
   "outputs": [],
   "source": [
    "print(len(videos))"
   ]
  },
  {
   "cell_type": "code",
   "execution_count": null,
   "metadata": {},
   "outputs": [],
   "source": [
    "video_path = join(getcwd(),\"videos\",query)\n",
    "print(video_path)\n",
    "\n",
    "if not isdir(video_path):\n",
    "    makedirs(video_path)\n",
    "    print(\"Dir created\")"
   ]
  },
  {
   "cell_type": "code",
   "execution_count": null,
   "metadata": {},
   "outputs": [],
   "source": [
    "set_name = True"
   ]
  },
  {
   "cell_type": "code",
   "execution_count": null,
   "metadata": {},
   "outputs": [],
   "source": [
    "firefox.close()\n",
    "firefox.quit()"
   ]
  },
  {
   "cell_type": "code",
   "execution_count": null,
   "metadata": {},
   "outputs": [],
   "source": [
    "for index,(name,vid) in enumerate(videos,1):\n",
    "\n",
    "    print(\"Getting\",name)\n",
    "    \n",
    "    data = get(vid).content\n",
    "\n",
    "    name = f\"{name if set_name else index}.mp4\"\n",
    "\n",
    "    path = join(video_path,name)\n",
    "\n",
    "    with open(path,\"wb\") as file:\n",
    "        file.write(data)\n",
    "        file.close()"
   ]
  },
  {
   "cell_type": "code",
   "execution_count": null,
   "metadata": {},
   "outputs": [],
   "source": [
    "#######################################################################################\n",
    "\n",
    "# with Quality"
   ]
  },
  {
   "cell_type": "code",
   "execution_count": null,
   "metadata": {},
   "outputs": [],
   "source": [
    "sd1 = {\"w\":426,\"h\":240}\n",
    "sd2 = {\"w\":640,\"h\":360}\n",
    "sd3 = {\"w\":960,\"h\":540}\n",
    "hd = {\"w\":426,\"h\":240}\n",
    "fullhd = {\"w\":1920,\"h\":1080}\n",
    "quadhd = {\"w\":2560,\"h\":1440}\n",
    "f4khd = {\"w\":3840,\"h\":2160}\n"
   ]
  },
  {
   "cell_type": "code",
   "execution_count": null,
   "metadata": {},
   "outputs": [],
   "source": [
    "def download(quality : dict = None):\n",
    "\n",
    "    for index,(name,vid) in enumerate(videos,1):\n",
    "\n",
    "        if quality:\n",
    "            id = name.split(\"-\")[-1]\n",
    "            vid = f\"https://www.pexels.com/download/video/{id}/?fps=25.0&h={quality[\"h\"]}&w={quality.get(\"w\")}\"\n",
    "\n",
    "\n",
    "        print(\"Getting\",name)\n",
    "        \n",
    "        response = get(vid)\n",
    "        data = response.content      # bytes\n",
    "\n",
    "        name = f\"{name if set_name else index}\" + (f\" ({quality[\"w\"]} x {quality[\"h\"]})\" if quality else \"\") + \".mp4\"\n",
    "\n",
    "        path = join(video_path,name)\n",
    "\n",
    "        with open(path,\"wb\") as file:\n",
    "            file.write(data)\n",
    "            file.close()"
   ]
  },
  {
   "cell_type": "code",
   "execution_count": null,
   "metadata": {},
   "outputs": [],
   "source": [
    "download(quality=f4khd)"
   ]
  }
 ],
 "metadata": {
  "kernelspec": {
   "display_name": "venv",
   "language": "python",
   "name": "python3"
  },
  "language_info": {
   "codemirror_mode": {
    "name": "ipython",
    "version": 3
   },
   "file_extension": ".py",
   "mimetype": "text/x-python",
   "name": "python",
   "nbconvert_exporter": "python",
   "pygments_lexer": "ipython3",
   "version": "3.12.0"
  }
 },
 "nbformat": 4,
 "nbformat_minor": 2
}
