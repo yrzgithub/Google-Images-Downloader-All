{
 "cells": [
  {
   "cell_type": "code",
   "execution_count": null,
   "metadata": {},
   "outputs": [],
   "source": [
    "from selenium.webdriver import Chrome,ChromeOptions"
   ]
  },
  {
   "cell_type": "code",
   "execution_count": null,
   "metadata": {},
   "outputs": [],
   "source": [
    "from webdriver_manager.chrome import ChromeDriverManager"
   ]
  },
  {
   "cell_type": "code",
   "execution_count": null,
   "metadata": {},
   "outputs": [],
   "source": [
    "from selenium.webdriver.chrome.service import Service"
   ]
  },
  {
   "cell_type": "code",
   "execution_count": null,
   "metadata": {},
   "outputs": [],
   "source": [
    "from selenium.webdriver.common.by import By"
   ]
  },
  {
   "cell_type": "code",
   "execution_count": null,
   "metadata": {},
   "outputs": [],
   "source": [
    "from selenium.webdriver.support.wait import WebDriverWait"
   ]
  },
  {
   "cell_type": "code",
   "execution_count": null,
   "metadata": {},
   "outputs": [],
   "source": [
    "from os import makedirs,getcwd\n",
    "from os.path import isdir,join"
   ]
  },
  {
   "cell_type": "code",
   "execution_count": null,
   "metadata": {},
   "outputs": [],
   "source": [
    "from selenium.webdriver.support.expected_conditions import *"
   ]
  },
  {
   "cell_type": "code",
   "execution_count": null,
   "metadata": {},
   "outputs": [],
   "source": [
    "from selenium.webdriver.common.action_chains import ActionChains"
   ]
  },
  {
   "cell_type": "code",
   "execution_count": null,
   "metadata": {},
   "outputs": [],
   "source": [
    "from numpy import frombuffer,uint8\n",
    "from cv2 import imshow,imdecode,IMREAD_COLOR,waitKey,destroyAllWindows,resize"
   ]
  },
  {
   "cell_type": "code",
   "execution_count": null,
   "metadata": {},
   "outputs": [],
   "source": [
    "from urllib.request import urlretrieve"
   ]
  },
  {
   "cell_type": "code",
   "execution_count": null,
   "metadata": {},
   "outputs": [],
   "source": [
    "import requests"
   ]
  },
  {
   "cell_type": "code",
   "execution_count": null,
   "metadata": {},
   "outputs": [],
   "source": [
    "query = input()"
   ]
  },
  {
   "cell_type": "code",
   "execution_count": null,
   "metadata": {},
   "outputs": [],
   "source": [
    "page_link = \"https://www.pixabay.com/images/search/\" + query"
   ]
  },
  {
   "cell_type": "code",
   "execution_count": null,
   "metadata": {},
   "outputs": [],
   "source": [
    "cwd = getcwd()\n",
    "folder_path = join(cwd,\"Images\",query)\n",
    "\n",
    "print(folder_path)\n",
    "\n",
    "if not isdir(folder_path):\n",
    "    makedirs(folder_path)\n",
    "    print(\"Directory Created\")\n",
    "\n",
    "\n",
    "count = 1"
   ]
  },
  {
   "cell_type": "code",
   "execution_count": null,
   "metadata": {},
   "outputs": [],
   "source": [
    "cm = ChromeDriverManager()"
   ]
  },
  {
   "cell_type": "code",
   "execution_count": null,
   "metadata": {},
   "outputs": [],
   "source": [
    "driver = Chrome(service=Service(cm.install()))"
   ]
  },
  {
   "cell_type": "code",
   "execution_count": null,
   "metadata": {},
   "outputs": [],
   "source": [
    "wait = WebDriverWait(driver,3600,ignored_exceptions=StaleElementReferenceException)\n",
    "wait._ignored_exceptions"
   ]
  },
  {
   "cell_type": "code",
   "execution_count": null,
   "metadata": {},
   "outputs": [],
   "source": [
    "driver.get(page_link)"
   ]
  },
  {
   "cell_type": "code",
   "execution_count": null,
   "metadata": {},
   "outputs": [],
   "source": [
    "end = driver.find_element(By.CLASS_NAME,\"position--YADEi\")\n",
    "total_pages = driver.find_element(By.XPATH,\"/html/body/div[1]/div[1]/div/div[2]/div[4]/div[3]/div\")\n",
    "next = driver.find_element(By.XPATH,\"/html/body/div[1]/div[1]/div/footer/div[1]/div[1]\")"
   ]
  },
  {
   "cell_type": "code",
   "execution_count": null,
   "metadata": {},
   "outputs": [],
   "source": [
    "total_img_n = int(end.text.split(\" \")[2].replace(\",\",\"\"))\n",
    "total_img_n"
   ]
  },
  {
   "cell_type": "code",
   "execution_count": null,
   "metadata": {},
   "outputs": [],
   "source": [
    "total_page_n = int(total_pages.text.replace(\"/\",\"\").strip())\n",
    "total_page_n"
   ]
  },
  {
   "cell_type": "code",
   "execution_count": null,
   "metadata": {},
   "outputs": [],
   "source": [
    "actionChains = ActionChains(driver)"
   ]
  },
  {
   "cell_type": "code",
   "execution_count": null,
   "metadata": {},
   "outputs": [],
   "source": [
    "show_image = True\n",
    "numbers = False"
   ]
  },
  {
   "cell_type": "code",
   "execution_count": null,
   "metadata": {},
   "outputs": [],
   "source": [
    "count = 1"
   ]
  },
  {
   "cell_type": "code",
   "execution_count": null,
   "metadata": {},
   "outputs": [],
   "source": [
    "for no in range(total_page_n):\n",
    "    page = page_link + f\"?pagi={no}\"\n",
    "    driver.get(page)\n",
    "\n",
    "    print(\"Page : \",page)\n",
    "\n",
    "    img_tags = driver.find_element(By.CLASS_NAME,\"results--mB75j\").find_elements(By.TAG_NAME,\"img\")\n",
    "    img_len = len(img_tags)\n",
    "\n",
    "    print(\"Images count : \",img_len)\n",
    "\n",
    "    for n,img in enumerate(img_tags):\n",
    "        actionChains.move_to_element(img).perform()\n",
    "\n",
    "        link = img.get_attribute(\"src\")\n",
    "\n",
    "        name = link.split(\"/\")[-1]\n",
    "        if \"?\" in name:\n",
    "            name = name.split(\"?\")[0]\n",
    "\n",
    "        if numbers:\n",
    "            name = str(count)\n",
    "        \n",
    "        print(count,name)\n",
    "\n",
    "        count += 1\n",
    "        \n",
    "        image_bytes = requests.get(link).content\n",
    "\n",
    "        image_buffer = frombuffer(image_bytes,uint8)\n",
    "        image = imdecode(image_buffer,IMREAD_COLOR)\n",
    "\n",
    "        # imwrite(join(folder_path,name),image)\n",
    "\n",
    "        with open(join(folder_path,name),\"wb\") as file:\n",
    "            file.write(image_bytes)\n",
    "            file.close()\n",
    "\n",
    "        if image is not None: imshow(query,image)\n",
    "\n",
    "        waitKey(1000)"
   ]
  },
  {
   "cell_type": "code",
   "execution_count": null,
   "metadata": {},
   "outputs": [],
   "source": [
    "destroyAllWindows()"
   ]
  }
 ],
 "metadata": {
  "kernelspec": {
   "display_name": "venv",
   "language": "python",
   "name": "python3"
  },
  "language_info": {
   "codemirror_mode": {
    "name": "ipython",
    "version": 3
   },
   "file_extension": ".py",
   "mimetype": "text/x-python",
   "name": "python",
   "nbconvert_exporter": "python",
   "pygments_lexer": "ipython3",
   "version": "3.12.0"
  }
 },
 "nbformat": 4,
 "nbformat_minor": 2
}
