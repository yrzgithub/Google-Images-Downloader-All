{
 "cells": [
  {
   "cell_type": "code",
   "execution_count": 1,
   "metadata": {},
   "outputs": [],
   "source": [
    "# %pip install selenium\n",
    "# %pip install keyboard\n",
    "# %pip install requests\n",
    "# %pip install opencv-python\n",
    "# %pip install pillow\n",
    "# %pip install scikit-image\n",
    "# %pip install numpy"
   ]
  },
  {
   "cell_type": "code",
   "execution_count": 2,
   "metadata": {},
   "outputs": [],
   "source": [
    "from selenium.webdriver import Chrome,ChromeOptions"
   ]
  },
  {
   "cell_type": "code",
   "execution_count": 3,
   "metadata": {},
   "outputs": [],
   "source": [
    "from webdriver_manager.chrome import ChromeDriverManager"
   ]
  },
  {
   "cell_type": "code",
   "execution_count": 4,
   "metadata": {},
   "outputs": [],
   "source": [
    "from selenium.webdriver.chrome.service import Service"
   ]
  },
  {
   "cell_type": "code",
   "execution_count": 5,
   "metadata": {},
   "outputs": [],
   "source": [
    "from selenium.webdriver.common.by import By"
   ]
  },
  {
   "cell_type": "code",
   "execution_count": 6,
   "metadata": {},
   "outputs": [],
   "source": [
    "from selenium.webdriver.support.wait import WebDriverWait"
   ]
  },
  {
   "cell_type": "code",
   "execution_count": 7,
   "metadata": {},
   "outputs": [],
   "source": [
    "from selenium.webdriver.support.expected_conditions import *"
   ]
  },
  {
   "cell_type": "code",
   "execution_count": 8,
   "metadata": {},
   "outputs": [],
   "source": [
    "from keyboard import is_pressed"
   ]
  },
  {
   "cell_type": "code",
   "execution_count": 9,
   "metadata": {},
   "outputs": [],
   "source": [
    "# from urllib.request import urlretrieve "
   ]
  },
  {
   "cell_type": "code",
   "execution_count": 10,
   "metadata": {},
   "outputs": [],
   "source": [
    "from os import getcwd,makedirs"
   ]
  },
  {
   "cell_type": "code",
   "execution_count": 11,
   "metadata": {},
   "outputs": [],
   "source": [
    "from os.path import join,isdir"
   ]
  },
  {
   "cell_type": "code",
   "execution_count": 12,
   "metadata": {},
   "outputs": [],
   "source": [
    "from cv2 import imshow,waitKey,destroyAllWindows,imread,IMREAD_COLOR,imdecode,resize,cvtColor,imwrite,COLOR_BGR2RGB"
   ]
  },
  {
   "cell_type": "code",
   "execution_count": 13,
   "metadata": {},
   "outputs": [],
   "source": [
    "from skimage import io"
   ]
  },
  {
   "cell_type": "code",
   "execution_count": 43,
   "metadata": {},
   "outputs": [],
   "source": [
    "from base64 import b64decode,urlsafe_b64decode"
   ]
  },
  {
   "cell_type": "code",
   "execution_count": 15,
   "metadata": {},
   "outputs": [],
   "source": [
    "from numpy import fromstring,uint8,frombuffer"
   ]
  },
  {
   "cell_type": "code",
   "execution_count": 16,
   "metadata": {},
   "outputs": [],
   "source": [
    "options = ChromeOptions()\n",
    "options.add_argument(\"--headless\")"
   ]
  },
  {
   "cell_type": "code",
   "execution_count": 17,
   "metadata": {},
   "outputs": [
    {
     "name": "stdout",
     "output_type": "stream",
     "text": [
      "https://www.google.com/images?q=Pooja Hede\n"
     ]
    }
   ],
   "source": [
    "query = input(\"Enter the keyword : \").title()\n",
    "default_url = \"https://www.google.com/images?q=\" + query\n",
    "\n",
    "print(default_url)"
   ]
  },
  {
   "cell_type": "code",
   "execution_count": 18,
   "metadata": {},
   "outputs": [],
   "source": [
    "cm = ChromeDriverManager()\n",
    "driver = Chrome(service=Service(cm.install()),options=None)"
   ]
  },
  {
   "cell_type": "code",
   "execution_count": 19,
   "metadata": {},
   "outputs": [],
   "source": [
    "driver.get(default_url)"
   ]
  },
  {
   "cell_type": "code",
   "execution_count": 20,
   "metadata": {},
   "outputs": [],
   "source": [
    "# driver.maximize_window()"
   ]
  },
  {
   "cell_type": "code",
   "execution_count": 21,
   "metadata": {},
   "outputs": [],
   "source": [
    "wait = WebDriverWait(driver,300)"
   ]
  },
  {
   "cell_type": "code",
   "execution_count": 22,
   "metadata": {},
   "outputs": [],
   "source": [
    "atags = wait.until(presence_of_all_elements_located((By.TAG_NAME,\"img\")))"
   ]
  },
  {
   "cell_type": "code",
   "execution_count": 23,
   "metadata": {},
   "outputs": [
    {
     "data": {
      "text/plain": [
       "False"
      ]
     },
     "execution_count": 23,
     "metadata": {},
     "output_type": "execute_result"
    }
   ],
   "source": [
    "driver.find_element(By.CLASS_NAME,\"LZ4I\").is_displayed()"
   ]
  },
  {
   "cell_type": "code",
   "execution_count": 24,
   "metadata": {},
   "outputs": [],
   "source": [
    "show_more = driver.find_element(By.CLASS_NAME,\"LZ4I\")"
   ]
  },
  {
   "cell_type": "code",
   "execution_count": 25,
   "metadata": {},
   "outputs": [],
   "source": [
    "end_xpath = \"/html/body/div[2]/c-wiz/div[3]/div[1]/div/div/div/div/div[1]/div[2]/div[1]/div[2]/div[1]/div\"\n",
    "more_anyway = \"/html/body/div[2]/c-wiz/div[3]/div[1]/div/div/div/div/div[2]\"\n"
   ]
  },
  {
   "cell_type": "code",
   "execution_count": 26,
   "metadata": {},
   "outputs": [
    {
     "name": "stdout",
     "output_type": "stream",
     "text": [
      "scrolling\n",
      "scrolling\n",
      "scrolling\n",
      "scrolling\n",
      "scrolling\n",
      "scrolling\n",
      "scrolling\n",
      "scrolling\n",
      "scrolling\n",
      "scrolling\n",
      "scrolling\n",
      "scrolling\n",
      "scrolling\n",
      "scrolling\n",
      "scrolling\n",
      "scrolling\n",
      "scrolling\n",
      "scrolling\n",
      "Show more clicked\n",
      "scrolling\n",
      "scrolling\n",
      "scrolling\n",
      "scrolling\n",
      "scrolling\n",
      "scrolling\n",
      "scrolling\n",
      "scrolling\n",
      "scrolling\n",
      "scrolling\n",
      "Reached the page end...\n"
     ]
    }
   ],
   "source": [
    "while not is_pressed('esc'):\n",
    "\n",
    "    try:\n",
    "        end = driver.find_element(By.XPATH,end_xpath)\n",
    "        more = driver.find_element(By.XPATH,more_anyway)\n",
    "        assert not end.is_displayed()\n",
    "        assert not more.is_displayed()\n",
    "\n",
    "    except NoSuchElementException:\n",
    "        pass\n",
    "\n",
    "    except AssertionError:\n",
    "        break\n",
    "    \n",
    "    driver.execute_script(\"window.scrollTo(0,document.body.scrollHeight)\")\n",
    "    print(\"scrolling\")\n",
    "    if show_more.is_displayed():\n",
    "        print(\"Show more clicked\")\n",
    "        show_more.click() \n",
    "\n",
    "print(\"Reached the page end...\")"
   ]
  },
  {
   "cell_type": "code",
   "execution_count": 27,
   "metadata": {},
   "outputs": [],
   "source": [
    "common_link = \"https://encrypted-tbn0.gstatic.com/images?q\""
   ]
  },
  {
   "cell_type": "code",
   "execution_count": 51,
   "metadata": {},
   "outputs": [
    {
     "name": "stdout",
     "output_type": "stream",
     "text": [
      "https://lens.google.com/gen204\n",
      "https://www.gstatic.com/ui/v1/menu/light_thumbnail2.png\n",
      "https://www.gstatic.com/ui/v1/menu/dark_thumbnail2.png\n",
      "https://www.gstatic.com/ui/v1/menu/device_default_thumbnail2.png\n",
      "https://encrypted-tbn2.gstatic.com/faviconV2?url=https://timesofindia.indiatimes.com&client=VFE&size=16&type=FAVICON&fallback_opts=TYPE,SIZE,URL&nfrp=2\n",
      "https://encrypted-tbn2.gstatic.com/faviconV2?url=https://facebook.com&client=VFE&size=16&type=FAVICON&fallback_opts=TYPE,SIZE,URL&nfrp=2\n",
      "https://encrypted-tbn2.gstatic.com/faviconV2?url=https://twitter.com&client=VFE&size=16&type=FAVICON&fallback_opts=TYPE,SIZE,URL&nfrp=2\n",
      "https://encrypted-tbn2.gstatic.com/faviconV2?url=https://timesofindia.indiatimes.com&client=VFE&size=16&type=FAVICON&fallback_opts=TYPE,SIZE,URL&nfrp=2\n",
      "https://encrypted-tbn2.gstatic.com/faviconV2?url=https://imdb.com&client=VFE&size=16&type=FAVICON&fallback_opts=TYPE,SIZE,URL&nfrp=2\n",
      "https://encrypted-tbn2.gstatic.com/faviconV2?url=https://bollywoodhungama.com&client=VFE&size=16&type=FAVICON&fallback_opts=TYPE,SIZE,URL&nfrp=2\n",
      "https://encrypted-tbn2.gstatic.com/faviconV2?url=https://cinejosh.com&client=VFE&size=16&type=FAVICON&fallback_opts=TYPE,SIZE,URL&nfrp=2\n",
      "https://encrypted-tbn2.gstatic.com/faviconV2?url=https://zeebiz.com&client=VFE&size=16&type=FAVICON&fallback_opts=TYPE,SIZE,URL&nfrp=2\n",
      "https://encrypted-tbn2.gstatic.com/faviconV2?url=https://timesofindia.indiatimes.com&client=VFE&size=16&type=FAVICON&fallback_opts=TYPE,SIZE,URL&nfrp=2\n",
      "https://encrypted-tbn2.gstatic.com/faviconV2?url=https://filmfare.com&client=VFE&size=16&type=FAVICON&fallback_opts=TYPE,SIZE,URL&nfrp=2\n",
      "https://encrypted-tbn2.gstatic.com/faviconV2?url=https://timesnownews.com&client=VFE&size=16&type=FAVICON&fallback_opts=TYPE,SIZE,URL&nfrp=2\n",
      "https://encrypted-tbn2.gstatic.com/faviconV2?url=https://devnaagri.com&client=VFE&size=16&type=FAVICON&fallback_opts=TYPE,SIZE,URL&nfrp=2\n",
      "https://encrypted-tbn2.gstatic.com/faviconV2?url=https://english.tupaki.com&client=VFE&size=16&type=FAVICON&fallback_opts=TYPE,SIZE,URL&nfrp=2\n",
      "https://encrypted-tbn2.gstatic.com/faviconV2?url=https://m.economictimes.com&client=VFE&size=16&type=FAVICON&fallback_opts=TYPE,SIZE,URL&nfrp=2\n",
      "https://encrypted-tbn2.gstatic.com/faviconV2?url=https://instagram.com&client=VFE&size=16&type=FAVICON&fallback_opts=TYPE,SIZE,URL&nfrp=2\n",
      "https://encrypted-tbn2.gstatic.com/faviconV2?url=https://gulte.com&client=VFE&size=16&type=FAVICON&fallback_opts=TYPE,SIZE,URL&nfrp=2\n",
      "https://encrypted-tbn2.gstatic.com/faviconV2?url=https://peakpx.com&client=VFE&size=16&type=FAVICON&fallback_opts=TYPE,SIZE,URL&nfrp=2\n",
      "https://encrypted-tbn2.gstatic.com/faviconV2?url=https://informalnewz.com&client=VFE&size=16&type=FAVICON&fallback_opts=TYPE,SIZE,URL&nfrp=2\n",
      "https://encrypted-tbn2.gstatic.com/faviconV2?url=https://123telugu.com&client=VFE&size=16&type=FAVICON&fallback_opts=TYPE,SIZE,URL&nfrp=2\n",
      "https://encrypted-tbn2.gstatic.com/faviconV2?url=https://akankshagajria.in&client=VFE&size=16&type=FAVICON&fallback_opts=TYPE,SIZE,URL&nfrp=2\n",
      "https://encrypted-tbn2.gstatic.com/faviconV2?url=https://devnaagri.com&client=VFE&size=16&type=FAVICON&fallback_opts=TYPE,SIZE,URL&nfrp=2\n",
      "https://encrypted-tbn2.gstatic.com/faviconV2?url=https://ndtv.com&client=VFE&size=16&type=FAVICON&fallback_opts=TYPE,SIZE,URL&nfrp=2\n",
      "https://encrypted-tbn2.gstatic.com/faviconV2?url=https://timesofindia.indiatimes.com&client=VFE&size=16&type=FAVICON&fallback_opts=TYPE,SIZE,URL&nfrp=2\n",
      "https://encrypted-tbn2.gstatic.com/faviconV2?url=https://swirlster.ndtv.com&client=VFE&size=16&type=FAVICON&fallback_opts=TYPE,SIZE,URL&nfrp=2\n",
      "https://encrypted-tbn2.gstatic.com/faviconV2?url=https://english.tupaki.com&client=VFE&size=16&type=FAVICON&fallback_opts=TYPE,SIZE,URL&nfrp=2\n",
      "https://encrypted-tbn2.gstatic.com/faviconV2?url=https://zeenews.india.com&client=VFE&size=16&type=FAVICON&fallback_opts=TYPE,SIZE,URL&nfrp=2\n",
      "https://encrypted-tbn2.gstatic.com/faviconV2?url=https://reddit.com&client=VFE&size=16&type=FAVICON&fallback_opts=TYPE,SIZE,URL&nfrp=2\n",
      "https://encrypted-tbn2.gstatic.com/faviconV2?url=https://telugucinema.com&client=VFE&size=16&type=FAVICON&fallback_opts=TYPE,SIZE,URL&nfrp=2\n",
      "https://encrypted-tbn2.gstatic.com/faviconV2?url=https://filmfare.com&client=VFE&size=16&type=FAVICON&fallback_opts=TYPE,SIZE,URL&nfrp=2\n",
      "https://encrypted-tbn2.gstatic.com/faviconV2?url=https://udayavani.com&client=VFE&size=16&type=FAVICON&fallback_opts=TYPE,SIZE,URL&nfrp=2\n",
      "https://encrypted-tbn2.gstatic.com/faviconV2?url=https://m.timesofindia.com&client=VFE&size=16&type=FAVICON&fallback_opts=TYPE,SIZE,URL&nfrp=2\n",
      "https://encrypted-tbn2.gstatic.com/faviconV2?url=https://in.pinterest.com&client=VFE&size=16&type=FAVICON&fallback_opts=TYPE,SIZE,URL&nfrp=2\n",
      "https://encrypted-tbn2.gstatic.com/faviconV2?url=https://lifestyleasia.com&client=VFE&size=16&type=FAVICON&fallback_opts=TYPE,SIZE,URL&nfrp=2\n",
      "https://encrypted-tbn2.gstatic.com/faviconV2?url=https://thebiographywala.com&client=VFE&size=16&type=FAVICON&fallback_opts=TYPE,SIZE,URL&nfrp=2\n",
      "https://encrypted-tbn2.gstatic.com/faviconV2?url=https://ndtv.com&client=VFE&size=16&type=FAVICON&fallback_opts=TYPE,SIZE,URL&nfrp=2\n",
      "https://encrypted-tbn2.gstatic.com/faviconV2?url=https://filmfare.com&client=VFE&size=16&type=FAVICON&fallback_opts=TYPE,SIZE,URL&nfrp=2\n",
      "https://encrypted-tbn2.gstatic.com/faviconV2?url=https://deccanherald.com&client=VFE&size=16&type=FAVICON&fallback_opts=TYPE,SIZE,URL&nfrp=2\n",
      "https://encrypted-tbn2.gstatic.com/faviconV2?url=https://m.timesofindia.com&client=VFE&size=16&type=FAVICON&fallback_opts=TYPE,SIZE,URL&nfrp=2\n",
      "https://encrypted-tbn2.gstatic.com/faviconV2?url=https://jagran.com&client=VFE&size=16&type=FAVICON&fallback_opts=TYPE,SIZE,URL&nfrp=2\n",
      "https://encrypted-tbn2.gstatic.com/faviconV2?url=https://timesnownews.com&client=VFE&size=16&type=FAVICON&fallback_opts=TYPE,SIZE,URL&nfrp=2\n",
      "https://encrypted-tbn2.gstatic.com/faviconV2?url=https://hindustantimes.com&client=VFE&size=16&type=FAVICON&fallback_opts=TYPE,SIZE,URL&nfrp=2\n",
      "https://encrypted-tbn2.gstatic.com/faviconV2?url=https://indiatoday.in&client=VFE&size=16&type=FAVICON&fallback_opts=TYPE,SIZE,URL&nfrp=2\n",
      "https://encrypted-tbn2.gstatic.com/faviconV2?url=https://siasat.com&client=VFE&size=16&type=FAVICON&fallback_opts=TYPE,SIZE,URL&nfrp=2\n",
      "https://encrypted-tbn2.gstatic.com/faviconV2?url=https://yovizag.com&client=VFE&size=16&type=FAVICON&fallback_opts=TYPE,SIZE,URL&nfrp=2\n",
      "https://encrypted-tbn2.gstatic.com/faviconV2?url=https://odishatv.in&client=VFE&size=16&type=FAVICON&fallback_opts=TYPE,SIZE,URL&nfrp=2\n",
      "https://encrypted-tbn2.gstatic.com/faviconV2?url=https://ntvenglish.com&client=VFE&size=16&type=FAVICON&fallback_opts=TYPE,SIZE,URL&nfrp=2\n",
      "https://encrypted-tbn2.gstatic.com/faviconV2?url=https://en.wikipedia.org&client=VFE&size=16&type=FAVICON&fallback_opts=TYPE,SIZE,URL&nfrp=2\n",
      "https://encrypted-tbn2.gstatic.com/faviconV2?url=https://filmfare.com&client=VFE&size=16&type=FAVICON&fallback_opts=TYPE,SIZE,URL&nfrp=2\n",
      "https://encrypted-tbn2.gstatic.com/faviconV2?url=https://tribuneindia.com&client=VFE&size=16&type=FAVICON&fallback_opts=TYPE,SIZE,URL&nfrp=2\n",
      "https://encrypted-tbn2.gstatic.com/faviconV2?url=https://vogue.in&client=VFE&size=16&type=FAVICON&fallback_opts=TYPE,SIZE,URL&nfrp=2\n",
      "https://encrypted-tbn2.gstatic.com/faviconV2?url=https://cinejosh.com&client=VFE&size=16&type=FAVICON&fallback_opts=TYPE,SIZE,URL&nfrp=2\n",
      "https://encrypted-tbn2.gstatic.com/faviconV2?url=https://m9.news&client=VFE&size=16&type=FAVICON&fallback_opts=TYPE,SIZE,URL&nfrp=2\n",
      "https://encrypted-tbn2.gstatic.com/faviconV2?url=https://indianexpress.com&client=VFE&size=16&type=FAVICON&fallback_opts=TYPE,SIZE,URL&nfrp=2\n",
      "https://encrypted-tbn2.gstatic.com/faviconV2?url=https://javatpoint.com&client=VFE&size=16&type=FAVICON&fallback_opts=TYPE,SIZE,URL&nfrp=2\n",
      "https://encrypted-tbn2.gstatic.com/faviconV2?url=https://news18.com&client=VFE&size=16&type=FAVICON&fallback_opts=TYPE,SIZE,URL&nfrp=2\n",
      "https://encrypted-tbn2.gstatic.com/faviconV2?url=https://ragalahari.com&client=VFE&size=16&type=FAVICON&fallback_opts=TYPE,SIZE,URL&nfrp=2\n",
      "https://encrypted-tbn2.gstatic.com/faviconV2?url=https://en.wikipedia.org&client=VFE&size=16&type=FAVICON&fallback_opts=TYPE,SIZE,URL&nfrp=2\n",
      "https://encrypted-tbn2.gstatic.com/faviconV2?url=https://devnaagri.com&client=VFE&size=16&type=FAVICON&fallback_opts=TYPE,SIZE,URL&nfrp=2\n",
      "https://encrypted-tbn2.gstatic.com/faviconV2?url=https://tupaki.com&client=VFE&size=16&type=FAVICON&fallback_opts=TYPE,SIZE,URL&nfrp=2\n",
      "https://encrypted-tbn2.gstatic.com/faviconV2?url=https://abplive.com&client=VFE&size=16&type=FAVICON&fallback_opts=TYPE,SIZE,URL&nfrp=2\n",
      "https://encrypted-tbn2.gstatic.com/faviconV2?url=https://pinkvilla.com&client=VFE&size=16&type=FAVICON&fallback_opts=TYPE,SIZE,URL&nfrp=2\n",
      "https://encrypted-tbn2.gstatic.com/faviconV2?url=https://telanganatoday.com&client=VFE&size=16&type=FAVICON&fallback_opts=TYPE,SIZE,URL&nfrp=2\n",
      "https://encrypted-tbn2.gstatic.com/faviconV2?url=https://m.timesofindia.com&client=VFE&size=16&type=FAVICON&fallback_opts=TYPE,SIZE,URL&nfrp=2\n",
      "https://encrypted-tbn2.gstatic.com/faviconV2?url=https://zeenews.india.com&client=VFE&size=16&type=FAVICON&fallback_opts=TYPE,SIZE,URL&nfrp=2\n",
      "https://encrypted-tbn2.gstatic.com/faviconV2?url=https://bebeautiful.in&client=VFE&size=16&type=FAVICON&fallback_opts=TYPE,SIZE,URL&nfrp=2\n",
      "https://encrypted-tbn2.gstatic.com/faviconV2?url=https://indianexpress.com&client=VFE&size=16&type=FAVICON&fallback_opts=TYPE,SIZE,URL&nfrp=2\n",
      "https://encrypted-tbn2.gstatic.com/faviconV2?url=https://timesofindia.indiatimes.com&client=VFE&size=16&type=FAVICON&fallback_opts=TYPE,SIZE,URL&nfrp=2\n",
      "https://encrypted-tbn2.gstatic.com/faviconV2?url=https://sambadenglish.com&client=VFE&size=16&type=FAVICON&fallback_opts=TYPE,SIZE,URL&nfrp=2\n",
      "https://encrypted-tbn2.gstatic.com/faviconV2?url=https://english.tupaki.com&client=VFE&size=16&type=FAVICON&fallback_opts=TYPE,SIZE,URL&nfrp=2\n",
      "https://encrypted-tbn2.gstatic.com/faviconV2?url=https://thestatesman.com&client=VFE&size=16&type=FAVICON&fallback_opts=TYPE,SIZE,URL&nfrp=2\n",
      "https://encrypted-tbn2.gstatic.com/faviconV2?url=https://m9.news&client=VFE&size=16&type=FAVICON&fallback_opts=TYPE,SIZE,URL&nfrp=2\n",
      "https://encrypted-tbn2.gstatic.com/faviconV2?url=https://gulte.com&client=VFE&size=16&type=FAVICON&fallback_opts=TYPE,SIZE,URL&nfrp=2\n",
      "https://encrypted-tbn2.gstatic.com/faviconV2?url=https://thehansindia.com&client=VFE&size=16&type=FAVICON&fallback_opts=TYPE,SIZE,URL&nfrp=2\n",
      "https://encrypted-tbn2.gstatic.com/faviconV2?url=https://m9.news&client=VFE&size=16&type=FAVICON&fallback_opts=TYPE,SIZE,URL&nfrp=2\n",
      "https://encrypted-tbn2.gstatic.com/faviconV2?url=https://123telugu.com&client=VFE&size=16&type=FAVICON&fallback_opts=TYPE,SIZE,URL&nfrp=2\n",
      "https://encrypted-tbn2.gstatic.com/faviconV2?url=https://indiatoday.in&client=VFE&size=16&type=FAVICON&fallback_opts=TYPE,SIZE,URL&nfrp=2\n",
      "https://encrypted-tbn2.gstatic.com/faviconV2?url=https://cinejosh.com&client=VFE&size=16&type=FAVICON&fallback_opts=TYPE,SIZE,URL&nfrp=2\n",
      "https://encrypted-tbn2.gstatic.com/faviconV2?url=https://ragalahari.com&client=VFE&size=16&type=FAVICON&fallback_opts=TYPE,SIZE,URL&nfrp=2\n",
      "https://encrypted-tbn2.gstatic.com/faviconV2?url=https://moviescast.in&client=VFE&size=16&type=FAVICON&fallback_opts=TYPE,SIZE,URL&nfrp=2\n",
      "https://encrypted-tbn2.gstatic.com/faviconV2?url=https://bollywoodhungama.com&client=VFE&size=16&type=FAVICON&fallback_opts=TYPE,SIZE,URL&nfrp=2\n",
      "https://encrypted-tbn2.gstatic.com/faviconV2?url=https://hindustantimes.com&client=VFE&size=16&type=FAVICON&fallback_opts=TYPE,SIZE,URL&nfrp=2\n",
      "https://encrypted-tbn2.gstatic.com/faviconV2?url=https://indiatvnews.com&client=VFE&size=16&type=FAVICON&fallback_opts=TYPE,SIZE,URL&nfrp=2\n",
      "https://encrypted-tbn2.gstatic.com/faviconV2?url=https://northeastherald.in&client=VFE&size=16&type=FAVICON&fallback_opts=TYPE,SIZE,URL&nfrp=2\n",
      "https://encrypted-tbn2.gstatic.com/faviconV2?url=https://odishatv.in&client=VFE&size=16&type=FAVICON&fallback_opts=TYPE,SIZE,URL&nfrp=2\n",
      "https://encrypted-tbn2.gstatic.com/faviconV2?url=https://news18.com&client=VFE&size=16&type=FAVICON&fallback_opts=TYPE,SIZE,URL&nfrp=2\n",
      "https://encrypted-tbn2.gstatic.com/faviconV2?url=https://pxfuel.com&client=VFE&size=16&type=FAVICON&fallback_opts=TYPE,SIZE,URL&nfrp=2\n",
      "https://encrypted-tbn2.gstatic.com/faviconV2?url=https://filmibeat.com&client=VFE&size=16&type=FAVICON&fallback_opts=TYPE,SIZE,URL&nfrp=2\n",
      "https://encrypted-tbn2.gstatic.com/faviconV2?url=https://abplive.com&client=VFE&size=16&type=FAVICON&fallback_opts=TYPE,SIZE,URL&nfrp=2\n",
      "https://encrypted-tbn2.gstatic.com/faviconV2?url=https://travelandleisureasia.com&client=VFE&size=16&type=FAVICON&fallback_opts=TYPE,SIZE,URL&nfrp=2\n",
      "https://encrypted-tbn2.gstatic.com/faviconV2?url=https://latestly.com&client=VFE&size=16&type=FAVICON&fallback_opts=TYPE,SIZE,URL&nfrp=2\n",
      "https://encrypted-tbn2.gstatic.com/faviconV2?url=https://starsunfolded.co&client=VFE&size=16&type=FAVICON&fallback_opts=TYPE,SIZE,URL&nfrp=2\n",
      "https://encrypted-tbn2.gstatic.com/faviconV2?url=https://telanganatoday.com&client=VFE&size=16&type=FAVICON&fallback_opts=TYPE,SIZE,URL&nfrp=2\n",
      "https://encrypted-tbn2.gstatic.com/faviconV2?url=https://ottplay.com&client=VFE&size=16&type=FAVICON&fallback_opts=TYPE,SIZE,URL&nfrp=2\n",
      "https://encrypted-tbn2.gstatic.com/faviconV2?url=https://123telugu.com&client=VFE&size=16&type=FAVICON&fallback_opts=TYPE,SIZE,URL&nfrp=2\n",
      "https://encrypted-tbn2.gstatic.com/faviconV2?url=https://youtube.com&client=VFE&size=16&type=FAVICON&fallback_opts=TYPE,SIZE,URL&nfrp=2\n",
      "https://encrypted-tbn2.gstatic.com/faviconV2?url=https://zeenews.india.com&client=VFE&size=16&type=FAVICON&fallback_opts=TYPE,SIZE,URL&nfrp=2\n",
      "https://encrypted-tbn2.gstatic.com/faviconV2?url=https://telegraphindia.com&client=VFE&size=16&type=FAVICON&fallback_opts=TYPE,SIZE,URL&nfrp=2\n",
      "https://encrypted-tbn2.gstatic.com/faviconV2?url=https://socialnews.xyz&client=VFE&size=16&type=FAVICON&fallback_opts=TYPE,SIZE,URL&nfrp=2\n",
      "https://encrypted-tbn2.gstatic.com/faviconV2?url=https://travelandleisureasia.com&client=VFE&size=16&type=FAVICON&fallback_opts=TYPE,SIZE,URL&nfrp=2\n",
      "https://encrypted-tbn2.gstatic.com/faviconV2?url=https://beatoflife.in&client=VFE&size=16&type=FAVICON&fallback_opts=TYPE,SIZE,URL&nfrp=2\n",
      "https://encrypted-tbn2.gstatic.com/faviconV2?url=https://tutorialandexample.com&client=VFE&size=16&type=FAVICON&fallback_opts=TYPE,SIZE,URL&nfrp=2\n",
      "https://encrypted-tbn2.gstatic.com/faviconV2?url=https://thehansindia.com&client=VFE&size=16&type=FAVICON&fallback_opts=TYPE,SIZE,URL&nfrp=2\n",
      "https://encrypted-tbn2.gstatic.com/faviconV2?url=https://easterneye.biz&client=VFE&size=16&type=FAVICON&fallback_opts=TYPE,SIZE,URL&nfrp=2\n",
      "https://encrypted-tbn2.gstatic.com/faviconV2?url=https://crickettimes.com&client=VFE&size=16&type=FAVICON&fallback_opts=TYPE,SIZE,URL&nfrp=2\n",
      "https://encrypted-tbn2.gstatic.com/faviconV2?url=https://telugubulletin.com&client=VFE&size=16&type=FAVICON&fallback_opts=TYPE,SIZE,URL&nfrp=2\n",
      "https://encrypted-tbn2.gstatic.com/faviconV2?url=https://southindiafashion.com&client=VFE&size=16&type=FAVICON&fallback_opts=TYPE,SIZE,URL&nfrp=2\n",
      "https://encrypted-tbn2.gstatic.com/faviconV2?url=https://computersjagat.com&client=VFE&size=16&type=FAVICON&fallback_opts=TYPE,SIZE,URL&nfrp=2\n",
      "https://encrypted-tbn2.gstatic.com/faviconV2?url=https://pinkvilla.com&client=VFE&size=16&type=FAVICON&fallback_opts=TYPE,SIZE,URL&nfrp=2\n",
      "https://encrypted-tbn2.gstatic.com/faviconV2?url=https://reddit.com&client=VFE&size=16&type=FAVICON&fallback_opts=TYPE,SIZE,URL&nfrp=2\n",
      "https://encrypted-tbn2.gstatic.com/faviconV2?url=https://english.jagran.com&client=VFE&size=16&type=FAVICON&fallback_opts=TYPE,SIZE,URL&nfrp=2\n",
      "https://encrypted-tbn2.gstatic.com/faviconV2?url=https://english.newstracklive.com&client=VFE&size=16&type=FAVICON&fallback_opts=TYPE,SIZE,URL&nfrp=2\n",
      "https://encrypted-tbn2.gstatic.com/faviconV2?url=https://bollywoodshaadis.com&client=VFE&size=16&type=FAVICON&fallback_opts=TYPE,SIZE,URL&nfrp=2\n",
      "https://encrypted-tbn2.gstatic.com/faviconV2?url=https://latestly.com&client=VFE&size=16&type=FAVICON&fallback_opts=TYPE,SIZE,URL&nfrp=2\n",
      "https://encrypted-tbn2.gstatic.com/faviconV2?url=https://tracktollywood.com&client=VFE&size=16&type=FAVICON&fallback_opts=TYPE,SIZE,URL&nfrp=2\n",
      "https://encrypted-tbn2.gstatic.com/faviconV2?url=https://hindustantimes.com&client=VFE&size=16&type=FAVICON&fallback_opts=TYPE,SIZE,URL&nfrp=2\n",
      "https://encrypted-tbn2.gstatic.com/faviconV2?url=https://hindi.news24online.com&client=VFE&size=16&type=FAVICON&fallback_opts=TYPE,SIZE,URL&nfrp=2\n",
      "https://encrypted-tbn2.gstatic.com/faviconV2?url=https://ap7am.com&client=VFE&size=16&type=FAVICON&fallback_opts=TYPE,SIZE,URL&nfrp=2\n",
      "https://encrypted-tbn2.gstatic.com/faviconV2?url=https://telugucinema.com&client=VFE&size=16&type=FAVICON&fallback_opts=TYPE,SIZE,URL&nfrp=2\n",
      "https://encrypted-tbn2.gstatic.com/faviconV2?url=https://indiaherald.com&client=VFE&size=16&type=FAVICON&fallback_opts=TYPE,SIZE,URL&nfrp=2\n",
      "https://encrypted-tbn2.gstatic.com/faviconV2?url=https://iwmbuzz.com&client=VFE&size=16&type=FAVICON&fallback_opts=TYPE,SIZE,URL&nfrp=2\n",
      "https://encrypted-tbn2.gstatic.com/faviconV2?url=https://outlookindia.com&client=VFE&size=16&type=FAVICON&fallback_opts=TYPE,SIZE,URL&nfrp=2\n",
      "https://encrypted-tbn2.gstatic.com/faviconV2?url=https://gulte.com&client=VFE&size=16&type=FAVICON&fallback_opts=TYPE,SIZE,URL&nfrp=2\n",
      "https://encrypted-tbn2.gstatic.com/faviconV2?url=https://aajtak.in&client=VFE&size=16&type=FAVICON&fallback_opts=TYPE,SIZE,URL&nfrp=2\n",
      "https://encrypted-tbn2.gstatic.com/faviconV2?url=https://gulfnews.com&client=VFE&size=16&type=FAVICON&fallback_opts=TYPE,SIZE,URL&nfrp=2\n",
      "https://encrypted-tbn2.gstatic.com/faviconV2?url=https://mirchi.in&client=VFE&size=16&type=FAVICON&fallback_opts=TYPE,SIZE,URL&nfrp=2\n",
      "https://encrypted-tbn2.gstatic.com/faviconV2?url=https://in.hellomagazine.com&client=VFE&size=16&type=FAVICON&fallback_opts=TYPE,SIZE,URL&nfrp=2\n",
      "https://encrypted-tbn2.gstatic.com/faviconV2?url=https://aajtak.in&client=VFE&size=16&type=FAVICON&fallback_opts=TYPE,SIZE,URL&nfrp=2\n",
      "https://encrypted-tbn2.gstatic.com/faviconV2?url=https://facebook.com&client=VFE&size=16&type=FAVICON&fallback_opts=TYPE,SIZE,URL&nfrp=2\n",
      "https://encrypted-tbn2.gstatic.com/faviconV2?url=https://gethucinema.com&client=VFE&size=16&type=FAVICON&fallback_opts=TYPE,SIZE,URL&nfrp=2\n",
      "https://encrypted-tbn2.gstatic.com/faviconV2?url=https://zeenews.india.com&client=VFE&size=16&type=FAVICON&fallback_opts=TYPE,SIZE,URL&nfrp=2\n",
      "https://encrypted-tbn2.gstatic.com/faviconV2?url=https://odishatv.in&client=VFE&size=16&type=FAVICON&fallback_opts=TYPE,SIZE,URL&nfrp=2\n",
      "https://encrypted-tbn2.gstatic.com/faviconV2?url=https://v6velugu.com&client=VFE&size=16&type=FAVICON&fallback_opts=TYPE,SIZE,URL&nfrp=2\n",
      "https://encrypted-tbn2.gstatic.com/faviconV2?url=https://abplive.com&client=VFE&size=16&type=FAVICON&fallback_opts=TYPE,SIZE,URL&nfrp=2\n",
      "https://encrypted-tbn2.gstatic.com/faviconV2?url=https://mid-day.com&client=VFE&size=16&type=FAVICON&fallback_opts=TYPE,SIZE,URL&nfrp=2\n",
      "https://encrypted-tbn2.gstatic.com/faviconV2?url=https://pxfuel.com&client=VFE&size=16&type=FAVICON&fallback_opts=TYPE,SIZE,URL&nfrp=2\n",
      "https://encrypted-tbn2.gstatic.com/faviconV2?url=https://thehansindia.com&client=VFE&size=16&type=FAVICON&fallback_opts=TYPE,SIZE,URL&nfrp=2\n",
      "https://encrypted-tbn2.gstatic.com/faviconV2?url=https://koimoi.com&client=VFE&size=16&type=FAVICON&fallback_opts=TYPE,SIZE,URL&nfrp=2\n",
      "https://encrypted-tbn2.gstatic.com/faviconV2?url=https://gettyimages.in&client=VFE&size=16&type=FAVICON&fallback_opts=TYPE,SIZE,URL&nfrp=2\n",
      "https://encrypted-tbn2.gstatic.com/faviconV2?url=https://in.bookmyshow.com&client=VFE&size=16&type=FAVICON&fallback_opts=TYPE,SIZE,URL&nfrp=2\n",
      "https://encrypted-tbn2.gstatic.com/faviconV2?url=https://cinejosh.com&client=VFE&size=16&type=FAVICON&fallback_opts=TYPE,SIZE,URL&nfrp=2\n",
      "https://encrypted-tbn2.gstatic.com/faviconV2?url=https://filmibeat.com&client=VFE&size=16&type=FAVICON&fallback_opts=TYPE,SIZE,URL&nfrp=2\n",
      "https://encrypted-tbn2.gstatic.com/faviconV2?url=https://newsroompost.com&client=VFE&size=16&type=FAVICON&fallback_opts=TYPE,SIZE,URL&nfrp=2\n",
      "https://encrypted-tbn2.gstatic.com/faviconV2?url=https://admin.tellychakkar.com&client=VFE&size=16&type=FAVICON&fallback_opts=TYPE,SIZE,URL&nfrp=2\n",
      "https://encrypted-tbn2.gstatic.com/faviconV2?url=https://in.pinterest.com&client=VFE&size=16&type=FAVICON&fallback_opts=TYPE,SIZE,URL&nfrp=2\n",
      "https://encrypted-tbn2.gstatic.com/faviconV2?url=https://bollywoodbubble.com&client=VFE&size=16&type=FAVICON&fallback_opts=TYPE,SIZE,URL&nfrp=2\n",
      "https://encrypted-tbn2.gstatic.com/faviconV2?url=https://prokerala.com&client=VFE&size=16&type=FAVICON&fallback_opts=TYPE,SIZE,URL&nfrp=2\n",
      "https://encrypted-tbn2.gstatic.com/faviconV2?url=https://weeklyvoice.com&client=VFE&size=16&type=FAVICON&fallback_opts=TYPE,SIZE,URL&nfrp=2\n",
      "https://encrypted-tbn2.gstatic.com/faviconV2?url=https://bizasialive.com&client=VFE&size=16&type=FAVICON&fallback_opts=TYPE,SIZE,URL&nfrp=2\n",
      "https://encrypted-tbn2.gstatic.com/faviconV2?url=https://informalnewz.com&client=VFE&size=16&type=FAVICON&fallback_opts=TYPE,SIZE,URL&nfrp=2\n",
      "https://encrypted-tbn2.gstatic.com/faviconV2?url=https://ptinews.com&client=VFE&size=16&type=FAVICON&fallback_opts=TYPE,SIZE,URL&nfrp=2\n",
      "https://encrypted-tbn2.gstatic.com/faviconV2?url=https://vogue.in&client=VFE&size=16&type=FAVICON&fallback_opts=TYPE,SIZE,URL&nfrp=2\n",
      "https://encrypted-tbn2.gstatic.com/faviconV2?url=https://zeenatstyle.com&client=VFE&size=16&type=FAVICON&fallback_opts=TYPE,SIZE,URL&nfrp=2\n",
      "https://encrypted-tbn2.gstatic.com/faviconV2?url=https://m.youtube.com&client=VFE&size=16&type=FAVICON&fallback_opts=TYPE,SIZE,URL&nfrp=2\n",
      "https://encrypted-tbn2.gstatic.com/faviconV2?url=https://devnaagri.com&client=VFE&size=16&type=FAVICON&fallback_opts=TYPE,SIZE,URL&nfrp=2\n",
      "https://encrypted-tbn2.gstatic.com/faviconV2?url=https://indiaforums.com&client=VFE&size=16&type=FAVICON&fallback_opts=TYPE,SIZE,URL&nfrp=2\n",
      "https://encrypted-tbn2.gstatic.com/faviconV2?url=https://wirally.com&client=VFE&size=16&type=FAVICON&fallback_opts=TYPE,SIZE,URL&nfrp=2\n",
      "https://encrypted-tbn2.gstatic.com/faviconV2?url=https://telugustop.com&client=VFE&size=16&type=FAVICON&fallback_opts=TYPE,SIZE,URL&nfrp=2\n",
      "https://encrypted-tbn2.gstatic.com/faviconV2?url=https://4kwallpapers.com&client=VFE&size=16&type=FAVICON&fallback_opts=TYPE,SIZE,URL&nfrp=2\n",
      "https://encrypted-tbn2.gstatic.com/faviconV2?url=https://cinejosh.com&client=VFE&size=16&type=FAVICON&fallback_opts=TYPE,SIZE,URL&nfrp=2\n",
      "https://encrypted-tbn2.gstatic.com/faviconV2?url=https://seetageeta.com&client=VFE&size=16&type=FAVICON&fallback_opts=TYPE,SIZE,URL&nfrp=2\n",
      "https://encrypted-tbn2.gstatic.com/faviconV2?url=https://socialnews.xyz&client=VFE&size=16&type=FAVICON&fallback_opts=TYPE,SIZE,URL&nfrp=2\n",
      "https://encrypted-tbn2.gstatic.com/faviconV2?url=https://glamsham.com&client=VFE&size=16&type=FAVICON&fallback_opts=TYPE,SIZE,URL&nfrp=2\n",
      "https://encrypted-tbn2.gstatic.com/faviconV2?url=https://filmibeat.com&client=VFE&size=16&type=FAVICON&fallback_opts=TYPE,SIZE,URL&nfrp=2\n",
      "https://encrypted-tbn2.gstatic.com/faviconV2?url=https://news18.com&client=VFE&size=16&type=FAVICON&fallback_opts=TYPE,SIZE,URL&nfrp=2\n",
      "https://encrypted-tbn2.gstatic.com/faviconV2?url=https://m.timesofindia.com&client=VFE&size=16&type=FAVICON&fallback_opts=TYPE,SIZE,URL&nfrp=2\n",
      "https://encrypted-tbn2.gstatic.com/faviconV2?url=https://pxfuel.com&client=VFE&size=16&type=FAVICON&fallback_opts=TYPE,SIZE,URL&nfrp=2\n",
      "https://encrypted-tbn2.gstatic.com/faviconV2?url=https://indiatoday.in&client=VFE&size=16&type=FAVICON&fallback_opts=TYPE,SIZE,URL&nfrp=2\n",
      "https://encrypted-tbn2.gstatic.com/faviconV2?url=https://filmfare.com&client=VFE&size=16&type=FAVICON&fallback_opts=TYPE,SIZE,URL&nfrp=2\n",
      "https://encrypted-tbn2.gstatic.com/faviconV2?url=https://herzindagi.com&client=VFE&size=16&type=FAVICON&fallback_opts=TYPE,SIZE,URL&nfrp=2\n",
      "https://encrypted-tbn2.gstatic.com/faviconV2?url=https://telugubulletin.com&client=VFE&size=16&type=FAVICON&fallback_opts=TYPE,SIZE,URL&nfrp=2\n",
      "https://encrypted-tbn2.gstatic.com/faviconV2?url=https://odishatv.in&client=VFE&size=16&type=FAVICON&fallback_opts=TYPE,SIZE,URL&nfrp=2\n",
      "https://encrypted-tbn2.gstatic.com/faviconV2?url=https://timesofindia.indiatimes.com&client=VFE&size=16&type=FAVICON&fallback_opts=TYPE,SIZE,URL&nfrp=2\n",
      "https://encrypted-tbn2.gstatic.com/faviconV2?url=https://bollywoodhungama.com&client=VFE&size=16&type=FAVICON&fallback_opts=TYPE,SIZE,URL&nfrp=2\n",
      "https://encrypted-tbn2.gstatic.com/faviconV2?url=https://reddit.com&client=VFE&size=16&type=FAVICON&fallback_opts=TYPE,SIZE,URL&nfrp=2\n",
      "https://encrypted-tbn2.gstatic.com/faviconV2?url=https://fitpaa.com&client=VFE&size=16&type=FAVICON&fallback_opts=TYPE,SIZE,URL&nfrp=2\n",
      "https://encrypted-tbn2.gstatic.com/faviconV2?url=https://indiatvnews.com&client=VFE&size=16&type=FAVICON&fallback_opts=TYPE,SIZE,URL&nfrp=2\n",
      "https://encrypted-tbn2.gstatic.com/faviconV2?url=https://newstrack.com&client=VFE&size=16&type=FAVICON&fallback_opts=TYPE,SIZE,URL&nfrp=2\n",
      "https://encrypted-tbn2.gstatic.com/faviconV2?url=https://filmyfocus.com&client=VFE&size=16&type=FAVICON&fallback_opts=TYPE,SIZE,URL&nfrp=2\n",
      "https://encrypted-tbn2.gstatic.com/faviconV2?url=https://zeenews.india.com&client=VFE&size=16&type=FAVICON&fallback_opts=TYPE,SIZE,URL&nfrp=2\n",
      "https://encrypted-tbn2.gstatic.com/faviconV2?url=https://hindustantimes.com&client=VFE&size=16&type=FAVICON&fallback_opts=TYPE,SIZE,URL&nfrp=2\n",
      "https://encrypted-tbn2.gstatic.com/faviconV2?url=https://gqindia.com&client=VFE&size=16&type=FAVICON&fallback_opts=TYPE,SIZE,URL&nfrp=2\n",
      "https://encrypted-tbn2.gstatic.com/faviconV2?url=https://pinkvilla.com&client=VFE&size=16&type=FAVICON&fallback_opts=TYPE,SIZE,URL&nfrp=2\n",
      "https://encrypted-tbn2.gstatic.com/faviconV2?url=https://cartoq.com&client=VFE&size=16&type=FAVICON&fallback_opts=TYPE,SIZE,URL&nfrp=2\n",
      "https://encrypted-tbn2.gstatic.com/faviconV2?url=https://koimoi.com&client=VFE&size=16&type=FAVICON&fallback_opts=TYPE,SIZE,URL&nfrp=2\n",
      "https://encrypted-tbn2.gstatic.com/faviconV2?url=https://reddit.com&client=VFE&size=16&type=FAVICON&fallback_opts=TYPE,SIZE,URL&nfrp=2\n",
      "https://encrypted-tbn2.gstatic.com/faviconV2?url=https://tellychakkar.com&client=VFE&size=16&type=FAVICON&fallback_opts=TYPE,SIZE,URL&nfrp=2\n",
      "https://encrypted-tbn2.gstatic.com/faviconV2?url=https://in.pinterest.com&client=VFE&size=16&type=FAVICON&fallback_opts=TYPE,SIZE,URL&nfrp=2\n",
      "https://encrypted-tbn2.gstatic.com/faviconV2?url=https://telanganatoday.com&client=VFE&size=16&type=FAVICON&fallback_opts=TYPE,SIZE,URL&nfrp=2\n",
      "https://encrypted-tbn2.gstatic.com/faviconV2?url=https://bollywoodhungama.com&client=VFE&size=16&type=FAVICON&fallback_opts=TYPE,SIZE,URL&nfrp=2\n",
      "https://encrypted-tbn2.gstatic.com/faviconV2?url=https://indiatoday.in&client=VFE&size=16&type=FAVICON&fallback_opts=TYPE,SIZE,URL&nfrp=2\n",
      "https://encrypted-tbn2.gstatic.com/faviconV2?url=https://vogue.in&client=VFE&size=16&type=FAVICON&fallback_opts=TYPE,SIZE,URL&nfrp=2\n",
      "https://encrypted-tbn2.gstatic.com/faviconV2?url=https://instagram.com&client=VFE&size=16&type=FAVICON&fallback_opts=TYPE,SIZE,URL&nfrp=2\n",
      "https://encrypted-tbn2.gstatic.com/faviconV2?url=https://in.pinterest.com&client=VFE&size=16&type=FAVICON&fallback_opts=TYPE,SIZE,URL&nfrp=2\n",
      "https://encrypted-tbn2.gstatic.com/faviconV2?url=https://bebeautiful.in&client=VFE&size=16&type=FAVICON&fallback_opts=TYPE,SIZE,URL&nfrp=2\n",
      "https://encrypted-tbn2.gstatic.com/faviconV2?url=https://indiaherald.com&client=VFE&size=16&type=FAVICON&fallback_opts=TYPE,SIZE,URL&nfrp=2\n",
      "https://encrypted-tbn2.gstatic.com/faviconV2?url=https://indiatvnews.com&client=VFE&size=16&type=FAVICON&fallback_opts=TYPE,SIZE,URL&nfrp=2\n",
      "https://encrypted-tbn2.gstatic.com/faviconV2?url=https://siasat.com&client=VFE&size=16&type=FAVICON&fallback_opts=TYPE,SIZE,URL&nfrp=2\n",
      "https://encrypted-tbn2.gstatic.com/faviconV2?url=https://iwmbuzz.com&client=VFE&size=16&type=FAVICON&fallback_opts=TYPE,SIZE,URL&nfrp=2\n",
      "https://encrypted-tbn2.gstatic.com/faviconV2?url=https://bollywoodlife.com&client=VFE&size=16&type=FAVICON&fallback_opts=TYPE,SIZE,URL&nfrp=2\n",
      "https://encrypted-tbn2.gstatic.com/faviconV2?url=https://telugucinema.com&client=VFE&size=16&type=FAVICON&fallback_opts=TYPE,SIZE,URL&nfrp=2\n",
      "https://encrypted-tbn2.gstatic.com/faviconV2?url=https://crickettimes.com&client=VFE&size=16&type=FAVICON&fallback_opts=TYPE,SIZE,URL&nfrp=2\n",
      "https://encrypted-tbn2.gstatic.com/faviconV2?url=https://koimoi.com&client=VFE&size=16&type=FAVICON&fallback_opts=TYPE,SIZE,URL&nfrp=2\n",
      "https://encrypted-tbn2.gstatic.com/faviconV2?url=https://telugu.hindustantimes.com&client=VFE&size=16&type=FAVICON&fallback_opts=TYPE,SIZE,URL&nfrp=2\n",
      "https://encrypted-tbn2.gstatic.com/faviconV2?url=https://abplive.com&client=VFE&size=16&type=FAVICON&fallback_opts=TYPE,SIZE,URL&nfrp=2\n",
      "https://encrypted-tbn2.gstatic.com/faviconV2?url=https://ndtv.com&client=VFE&size=16&type=FAVICON&fallback_opts=TYPE,SIZE,URL&nfrp=2\n",
      "https://encrypted-tbn2.gstatic.com/faviconV2?url=https://lifestyleasia.com&client=VFE&size=16&type=FAVICON&fallback_opts=TYPE,SIZE,URL&nfrp=2\n",
      "https://encrypted-tbn2.gstatic.com/faviconV2?url=https://gqindia.com&client=VFE&size=16&type=FAVICON&fallback_opts=TYPE,SIZE,URL&nfrp=2\n",
      "https://encrypted-tbn2.gstatic.com/faviconV2?url=https://slurrp.com&client=VFE&size=16&type=FAVICON&fallback_opts=TYPE,SIZE,URL&nfrp=2\n",
      "https://encrypted-tbn2.gstatic.com/faviconV2?url=https://freepressjournal.in&client=VFE&size=16&type=FAVICON&fallback_opts=TYPE,SIZE,URL&nfrp=2\n",
      "https://encrypted-tbn2.gstatic.com/faviconV2?url=https://zeenews.india.com&client=VFE&size=16&type=FAVICON&fallback_opts=TYPE,SIZE,URL&nfrp=2\n",
      "https://encrypted-tbn2.gstatic.com/faviconV2?url=https://bebeautiful.in&client=VFE&size=16&type=FAVICON&fallback_opts=TYPE,SIZE,URL&nfrp=2\n",
      "https://encrypted-tbn2.gstatic.com/faviconV2?url=https://odishatv.in&client=VFE&size=16&type=FAVICON&fallback_opts=TYPE,SIZE,URL&nfrp=2\n",
      "https://encrypted-tbn2.gstatic.com/faviconV2?url=https://indiatoday.in&client=VFE&size=16&type=FAVICON&fallback_opts=TYPE,SIZE,URL&nfrp=2\n",
      "https://encrypted-tbn2.gstatic.com/faviconV2?url=https://auto.hindustantimes.com&client=VFE&size=16&type=FAVICON&fallback_opts=TYPE,SIZE,URL&nfrp=2\n",
      "https://encrypted-tbn2.gstatic.com/faviconV2?url=https://filmyfocus.com&client=VFE&size=16&type=FAVICON&fallback_opts=TYPE,SIZE,URL&nfrp=2\n",
      "https://encrypted-tbn2.gstatic.com/faviconV2?url=https://timesnownews.com&client=VFE&size=16&type=FAVICON&fallback_opts=TYPE,SIZE,URL&nfrp=2\n",
      "https://encrypted-tbn2.gstatic.com/faviconV2?url=https://vogue.in&client=VFE&size=16&type=FAVICON&fallback_opts=TYPE,SIZE,URL&nfrp=2\n",
      "https://encrypted-tbn2.gstatic.com/faviconV2?url=https://filmcompanion.in&client=VFE&size=16&type=FAVICON&fallback_opts=TYPE,SIZE,URL&nfrp=2\n",
      "https://encrypted-tbn2.gstatic.com/faviconV2?url=https://m.economictimes.com&client=VFE&size=16&type=FAVICON&fallback_opts=TYPE,SIZE,URL&nfrp=2\n",
      "https://encrypted-tbn2.gstatic.com/faviconV2?url=https://indiaherald.com&client=VFE&size=16&type=FAVICON&fallback_opts=TYPE,SIZE,URL&nfrp=2\n",
      "https://encrypted-tbn2.gstatic.com/faviconV2?url=https://zeenews.india.com&client=VFE&size=16&type=FAVICON&fallback_opts=TYPE,SIZE,URL&nfrp=2\n",
      "https://encrypted-tbn2.gstatic.com/faviconV2?url=https://pinkvilla.com&client=VFE&size=16&type=FAVICON&fallback_opts=TYPE,SIZE,URL&nfrp=2\n",
      "https://encrypted-tbn2.gstatic.com/faviconV2?url=https://gettyimages.com&client=VFE&size=16&type=FAVICON&fallback_opts=TYPE,SIZE,URL&nfrp=2\n",
      "https://encrypted-tbn2.gstatic.com/faviconV2?url=https://cartoq.com&client=VFE&size=16&type=FAVICON&fallback_opts=TYPE,SIZE,URL&nfrp=2\n",
      "https://encrypted-tbn2.gstatic.com/faviconV2?url=https://prokerala.com&client=VFE&size=16&type=FAVICON&fallback_opts=TYPE,SIZE,URL&nfrp=2\n",
      "https://encrypted-tbn2.gstatic.com/faviconV2?url=https://filmibeat.com&client=VFE&size=16&type=FAVICON&fallback_opts=TYPE,SIZE,URL&nfrp=2\n",
      "https://encrypted-tbn2.gstatic.com/faviconV2?url=https://indiatvnews.com&client=VFE&size=16&type=FAVICON&fallback_opts=TYPE,SIZE,URL&nfrp=2\n",
      "https://encrypted-tbn2.gstatic.com/faviconV2?url=https://instagram.com&client=VFE&size=16&type=FAVICON&fallback_opts=TYPE,SIZE,URL&nfrp=2\n",
      "https://encrypted-tbn2.gstatic.com/faviconV2?url=https://bollywoodhungama.com&client=VFE&size=16&type=FAVICON&fallback_opts=TYPE,SIZE,URL&nfrp=2\n",
      "https://encrypted-tbn2.gstatic.com/faviconV2?url=https://m.youtube.com&client=VFE&size=16&type=FAVICON&fallback_opts=TYPE,SIZE,URL&nfrp=2\n",
      "https://encrypted-tbn2.gstatic.com/faviconV2?url=https://indiatoday.in&client=VFE&size=16&type=FAVICON&fallback_opts=TYPE,SIZE,URL&nfrp=2\n",
      "https://encrypted-tbn2.gstatic.com/faviconV2?url=https://zeenews.india.com&client=VFE&size=16&type=FAVICON&fallback_opts=TYPE,SIZE,URL&nfrp=2\n",
      "https://encrypted-tbn2.gstatic.com/faviconV2?url=https://m.economictimes.com&client=VFE&size=16&type=FAVICON&fallback_opts=TYPE,SIZE,URL&nfrp=2\n",
      "https://encrypted-tbn2.gstatic.com/faviconV2?url=https://freepressjournal.in&client=VFE&size=16&type=FAVICON&fallback_opts=TYPE,SIZE,URL&nfrp=2\n",
      "https://encrypted-tbn2.gstatic.com/faviconV2?url=https://hindi.timesxp.com&client=VFE&size=16&type=FAVICON&fallback_opts=TYPE,SIZE,URL&nfrp=2\n",
      "https://encrypted-tbn2.gstatic.com/faviconV2?url=https://reddit.com&client=VFE&size=16&type=FAVICON&fallback_opts=TYPE,SIZE,URL&nfrp=2\n",
      "https://encrypted-tbn2.gstatic.com/faviconV2?url=https://filmyfocus.com&client=VFE&size=16&type=FAVICON&fallback_opts=TYPE,SIZE,URL&nfrp=2\n",
      "https://encrypted-tbn2.gstatic.com/faviconV2?url=https://facebook.com&client=VFE&size=16&type=FAVICON&fallback_opts=TYPE,SIZE,URL&nfrp=2\n",
      "https://encrypted-tbn2.gstatic.com/faviconV2?url=https://filmcompanion.in&client=VFE&size=16&type=FAVICON&fallback_opts=TYPE,SIZE,URL&nfrp=2\n",
      "https://encrypted-tbn2.gstatic.com/faviconV2?url=https://koimoi.com&client=VFE&size=16&type=FAVICON&fallback_opts=TYPE,SIZE,URL&nfrp=2\n",
      "https://encrypted-tbn2.gstatic.com/faviconV2?url=https://outlookindia.com&client=VFE&size=16&type=FAVICON&fallback_opts=TYPE,SIZE,URL&nfrp=2\n",
      "https://encrypted-tbn2.gstatic.com/faviconV2?url=https://dnaindia.com&client=VFE&size=16&type=FAVICON&fallback_opts=TYPE,SIZE,URL&nfrp=2\n",
      "https://encrypted-tbn2.gstatic.com/faviconV2?url=https://freepressjournal.in&client=VFE&size=16&type=FAVICON&fallback_opts=TYPE,SIZE,URL&nfrp=2\n",
      "https://encrypted-tbn2.gstatic.com/faviconV2?url=https://news18.com&client=VFE&size=16&type=FAVICON&fallback_opts=TYPE,SIZE,URL&nfrp=2\n",
      "https://encrypted-tbn2.gstatic.com/faviconV2?url=https://india.com&client=VFE&size=16&type=FAVICON&fallback_opts=TYPE,SIZE,URL&nfrp=2\n",
      "https://encrypted-tbn2.gstatic.com/faviconV2?url=https://indiatoday.in&client=VFE&size=16&type=FAVICON&fallback_opts=TYPE,SIZE,URL&nfrp=2\n",
      "https://encrypted-tbn2.gstatic.com/faviconV2?url=https://lifestyleasia.com&client=VFE&size=16&type=FAVICON&fallback_opts=TYPE,SIZE,URL&nfrp=2\n",
      "https://encrypted-tbn2.gstatic.com/faviconV2?url=https://m.timesofindia.com&client=VFE&size=16&type=FAVICON&fallback_opts=TYPE,SIZE,URL&nfrp=2\n",
      "https://encrypted-tbn2.gstatic.com/faviconV2?url=https://bollywoodlife.com&client=VFE&size=16&type=FAVICON&fallback_opts=TYPE,SIZE,URL&nfrp=2\n",
      "https://encrypted-tbn2.gstatic.com/faviconV2?url=https://mid-day.com&client=VFE&size=16&type=FAVICON&fallback_opts=TYPE,SIZE,URL&nfrp=2\n",
      "https://encrypted-tbn2.gstatic.com/faviconV2?url=https://freepressjournal.in&client=VFE&size=16&type=FAVICON&fallback_opts=TYPE,SIZE,URL&nfrp=2\n",
      "https://encrypted-tbn2.gstatic.com/faviconV2?url=https://m.youtube.com&client=VFE&size=16&type=FAVICON&fallback_opts=TYPE,SIZE,URL&nfrp=2\n",
      "https://encrypted-tbn2.gstatic.com/faviconV2?url=https://kitekeka.com&client=VFE&size=16&type=FAVICON&fallback_opts=TYPE,SIZE,URL&nfrp=2\n",
      "https://encrypted-tbn2.gstatic.com/faviconV2?url=https://architecturaldigest.in&client=VFE&size=16&type=FAVICON&fallback_opts=TYPE,SIZE,URL&nfrp=2\n",
      "https://encrypted-tbn2.gstatic.com/faviconV2?url=https://m.timesofindia.com&client=VFE&size=16&type=FAVICON&fallback_opts=TYPE,SIZE,URL&nfrp=2\n",
      "https://encrypted-tbn2.gstatic.com/faviconV2?url=https://southindiafashion.com&client=VFE&size=16&type=FAVICON&fallback_opts=TYPE,SIZE,URL&nfrp=2\n",
      "https://encrypted-tbn2.gstatic.com/faviconV2?url=https://m9.news&client=VFE&size=16&type=FAVICON&fallback_opts=TYPE,SIZE,URL&nfrp=2\n",
      "https://encrypted-tbn2.gstatic.com/faviconV2?url=https://pinkvilla.com&client=VFE&size=16&type=FAVICON&fallback_opts=TYPE,SIZE,URL&nfrp=2\n",
      "https://encrypted-tbn2.gstatic.com/faviconV2?url=https://filmfare.com&client=VFE&size=16&type=FAVICON&fallback_opts=TYPE,SIZE,URL&nfrp=2\n",
      "https://encrypted-tbn2.gstatic.com/faviconV2?url=https://indiatvnews.com&client=VFE&size=16&type=FAVICON&fallback_opts=TYPE,SIZE,URL&nfrp=2\n",
      "https://encrypted-tbn2.gstatic.com/faviconV2?url=https://indiaherald.com&client=VFE&size=16&type=FAVICON&fallback_opts=TYPE,SIZE,URL&nfrp=2\n",
      "https://encrypted-tbn2.gstatic.com/faviconV2?url=https://tv9marathi.com&client=VFE&size=16&type=FAVICON&fallback_opts=TYPE,SIZE,URL&nfrp=2\n",
      "https://encrypted-tbn2.gstatic.com/faviconV2?url=https://vogue.in&client=VFE&size=16&type=FAVICON&fallback_opts=TYPE,SIZE,URL&nfrp=2\n",
      "https://encrypted-tbn2.gstatic.com/faviconV2?url=https://timesnownews.com&client=VFE&size=16&type=FAVICON&fallback_opts=TYPE,SIZE,URL&nfrp=2\n",
      "https://encrypted-tbn2.gstatic.com/faviconV2?url=https://bollywoodlife.com&client=VFE&size=16&type=FAVICON&fallback_opts=TYPE,SIZE,URL&nfrp=2\n",
      "https://encrypted-tbn2.gstatic.com/faviconV2?url=https://bollywoodshaadis.com&client=VFE&size=16&type=FAVICON&fallback_opts=TYPE,SIZE,URL&nfrp=2\n",
      "https://encrypted-tbn2.gstatic.com/faviconV2?url=https://gulte.com&client=VFE&size=16&type=FAVICON&fallback_opts=TYPE,SIZE,URL&nfrp=2\n",
      "https://encrypted-tbn2.gstatic.com/faviconV2?url=https://dnaindia.com&client=VFE&size=16&type=FAVICON&fallback_opts=TYPE,SIZE,URL&nfrp=2\n",
      "https://encrypted-tbn2.gstatic.com/faviconV2?url=https://news18.com&client=VFE&size=16&type=FAVICON&fallback_opts=TYPE,SIZE,URL&nfrp=2\n",
      "https://encrypted-tbn2.gstatic.com/faviconV2?url=https://freepressjournal.in&client=VFE&size=16&type=FAVICON&fallback_opts=TYPE,SIZE,URL&nfrp=2\n",
      "https://encrypted-tbn2.gstatic.com/faviconV2?url=https://tupaki.com&client=VFE&size=16&type=FAVICON&fallback_opts=TYPE,SIZE,URL&nfrp=2\n",
      "https://encrypted-tbn2.gstatic.com/faviconV2?url=https://indiaherald.com&client=VFE&size=16&type=FAVICON&fallback_opts=TYPE,SIZE,URL&nfrp=2\n",
      "https://encrypted-tbn2.gstatic.com/faviconV2?url=https://indiatvnews.com&client=VFE&size=16&type=FAVICON&fallback_opts=TYPE,SIZE,URL&nfrp=2\n",
      "https://encrypted-tbn2.gstatic.com/faviconV2?url=https://m.timesofindia.com&client=VFE&size=16&type=FAVICON&fallback_opts=TYPE,SIZE,URL&nfrp=2\n",
      "https://encrypted-tbn2.gstatic.com/faviconV2?url=https://outlookindia.com&client=VFE&size=16&type=FAVICON&fallback_opts=TYPE,SIZE,URL&nfrp=2\n",
      "https://encrypted-tbn2.gstatic.com/faviconV2?url=https://m.youtube.com&client=VFE&size=16&type=FAVICON&fallback_opts=TYPE,SIZE,URL&nfrp=2\n",
      "https://encrypted-tbn2.gstatic.com/faviconV2?url=https://m.economictimes.com&client=VFE&size=16&type=FAVICON&fallback_opts=TYPE,SIZE,URL&nfrp=2\n",
      "https://encrypted-tbn2.gstatic.com/faviconV2?url=https://bollywoodlife.com&client=VFE&size=16&type=FAVICON&fallback_opts=TYPE,SIZE,URL&nfrp=2\n",
      "https://encrypted-tbn2.gstatic.com/faviconV2?url=https://indiaherald.com&client=VFE&size=16&type=FAVICON&fallback_opts=TYPE,SIZE,URL&nfrp=2\n",
      "https://encrypted-tbn2.gstatic.com/faviconV2?url=https://telanganatoday.com&client=VFE&size=16&type=FAVICON&fallback_opts=TYPE,SIZE,URL&nfrp=2\n",
      "https://encrypted-tbn2.gstatic.com/faviconV2?url=https://telugu.hindustantimes.com&client=VFE&size=16&type=FAVICON&fallback_opts=TYPE,SIZE,URL&nfrp=2\n",
      "https://encrypted-tbn2.gstatic.com/faviconV2?url=https://hindiactress.in&client=VFE&size=16&type=FAVICON&fallback_opts=TYPE,SIZE,URL&nfrp=2\n"
     ]
    }
   ],
   "source": [
    "wait.until(presence_of_all_elements_located((By.TAG_NAME,\"img\")))\n",
    "wait.until(element_attribute_to_include((By.TAG_NAME,\"img\"),\"src\"))\n",
    "elements = driver.find_elements(By.TAG_NAME,\"img\")\n",
    "links = []\n",
    "for element in elements:\n",
    "    link = element.get_attribute(\"src\")\n",
    "    if link is None:                                                                              # or not link.startswith(common_link):\n",
    "        continue \n",
    "    \n",
    "    if link.startswith(common_link):\n",
    "        links.append(link)\n",
    "    \n",
    "    elif link.startswith(\"data:image\"):\n",
    "        #lnk = link[link.find(\"/9j\"):]\n",
    "        try:\n",
    "            lnk = urlsafe_b64decode(link)\n",
    "            links.append(lnk)\n",
    "        except:\n",
    "            continue\n",
    "    \n",
    "    else:\n",
    "        print(link)"
   ]
  },
  {
   "cell_type": "code",
   "execution_count": 49,
   "metadata": {},
   "outputs": [
    {
     "name": "stdout",
     "output_type": "stream",
     "text": [
      "369 images found\n"
     ]
    }
   ],
   "source": [
    "print(len(links),\"images found\")"
   ]
  },
  {
   "cell_type": "code",
   "execution_count": 35,
   "metadata": {},
   "outputs": [
    {
     "data": {
      "text/plain": [
       "'d:\\\\My Apps\\\\Google-Images-Downloader-All'"
      ]
     },
     "execution_count": 35,
     "metadata": {},
     "output_type": "execute_result"
    }
   ],
   "source": [
    "cwd = getcwd()\n",
    "cwd"
   ]
  },
  {
   "cell_type": "code",
   "execution_count": 36,
   "metadata": {},
   "outputs": [],
   "source": [
    "folder_path = join(cwd,\"Images\",query)\n",
    "if not isdir(folder_path):\n",
    "    makedirs(folder_path)"
   ]
  },
  {
   "cell_type": "code",
   "execution_count": 53,
   "metadata": {},
   "outputs": [
    {
     "ename": "TypeError",
     "evalue": "startswith first arg must be bytes or a tuple of bytes, not str",
     "output_type": "error",
     "traceback": [
      "\u001b[1;31m---------------------------------------------------------------------------\u001b[0m",
      "\u001b[1;31mTypeError\u001b[0m                                 Traceback (most recent call last)",
      "Cell \u001b[1;32mIn[53], line 4\u001b[0m\n\u001b[0;32m      1\u001b[0m \u001b[38;5;28;01mfor\u001b[39;00m index,link \u001b[38;5;129;01min\u001b[39;00m \u001b[38;5;28menumerate\u001b[39m(links):\n\u001b[0;32m      2\u001b[0m     path \u001b[38;5;241m=\u001b[39m join(folder_path,\u001b[38;5;28mstr\u001b[39m(index)\u001b[38;5;241m+\u001b[39m\u001b[38;5;124m\"\u001b[39m\u001b[38;5;124m.png\u001b[39m\u001b[38;5;124m\"\u001b[39m)\n\u001b[1;32m----> 4\u001b[0m     \u001b[38;5;28;01mif\u001b[39;00m \u001b[43mlink\u001b[49m\u001b[38;5;241;43m.\u001b[39;49m\u001b[43mstartswith\u001b[49m\u001b[43m(\u001b[49m\u001b[38;5;124;43m\"\u001b[39;49m\u001b[38;5;124;43mhttp\u001b[39;49m\u001b[38;5;124;43m\"\u001b[39;49m\u001b[43m)\u001b[49m:\n\u001b[0;32m      5\u001b[0m         img \u001b[38;5;241m=\u001b[39m io\u001b[38;5;241m.\u001b[39mimread(link)\n\u001b[0;32m      6\u001b[0m         img \u001b[38;5;241m=\u001b[39m cvtColor(img,COLOR_BGR2RGB)\n",
      "\u001b[1;31mTypeError\u001b[0m: startswith first arg must be bytes or a tuple of bytes, not str"
     ]
    }
   ],
   "source": [
    "for index,link in enumerate(links):\n",
    "    path = join(folder_path,str(index)+\".png\")\n",
    "\n",
    "    if link.startswith(\"http\"):\n",
    "        img = io.imread(link)\n",
    "        img = cvtColor(img,COLOR_BGR2RGB)\n",
    "        \n",
    "\n",
    "    elif link.startswith(\"/9j\"):\n",
    "        img = imdecode(frombuffer(b64decode(link),uint8),IMREAD_COLOR)\n",
    "    \n",
    "    imshow(\"Frame\",resize(img,(500,500)))\n",
    "    imwrite(path,img)\n",
    "    waitKey(1)\n",
    "\n",
    "destroyAllWindows()"
   ]
  },
  {
   "cell_type": "code",
   "execution_count": null,
   "metadata": {},
   "outputs": [],
   "source": [
    "destroyAllWindows()"
   ]
  },
  {
   "cell_type": "code",
   "execution_count": null,
   "metadata": {},
   "outputs": [],
   "source": [
    "#driver.close()\n",
    "#driver.quit()"
   ]
  }
 ],
 "metadata": {
  "kernelspec": {
   "display_name": "Python 3",
   "language": "python",
   "name": "python3"
  },
  "language_info": {
   "codemirror_mode": {
    "name": "ipython",
    "version": 3
   },
   "file_extension": ".py",
   "mimetype": "text/x-python",
   "name": "python",
   "nbconvert_exporter": "python",
   "pygments_lexer": "ipython3",
   "version": "3.12.0"
  }
 },
 "nbformat": 4,
 "nbformat_minor": 2
}
