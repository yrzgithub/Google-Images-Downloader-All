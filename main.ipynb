{
 "cells": [
  {
   "cell_type": "code",
   "execution_count": 1,
   "metadata": {},
   "outputs": [],
   "source": [
    "# %pip install selenium\n",
    "# %pip install keyboard\n",
    "# %pip install requests\n",
    "# %pip install opencv-python\n",
    "# %pip install pillow\n",
    "# %pip install scikit-image\n",
    "# %pip install numpy"
   ]
  },
  {
   "cell_type": "code",
   "execution_count": 2,
   "metadata": {},
   "outputs": [],
   "source": [
    "from selenium.webdriver import Chrome,ChromeOptions"
   ]
  },
  {
   "cell_type": "code",
   "execution_count": 3,
   "metadata": {},
   "outputs": [],
   "source": [
    "from webdriver_manager.chrome import ChromeDriverManager"
   ]
  },
  {
   "cell_type": "code",
   "execution_count": 4,
   "metadata": {},
   "outputs": [],
   "source": [
    "from selenium.webdriver.chrome.service import Service"
   ]
  },
  {
   "cell_type": "code",
   "execution_count": 5,
   "metadata": {},
   "outputs": [],
   "source": [
    "from selenium.webdriver.common.by import By"
   ]
  },
  {
   "cell_type": "code",
   "execution_count": 6,
   "metadata": {},
   "outputs": [],
   "source": [
    "from selenium.webdriver.support.wait import WebDriverWait"
   ]
  },
  {
   "cell_type": "code",
   "execution_count": 7,
   "metadata": {},
   "outputs": [],
   "source": [
    "from selenium.webdriver.support.expected_conditions import *"
   ]
  },
  {
   "cell_type": "code",
   "execution_count": 8,
   "metadata": {},
   "outputs": [],
   "source": [
    "from keyboard import is_pressed"
   ]
  },
  {
   "cell_type": "code",
   "execution_count": 9,
   "metadata": {},
   "outputs": [],
   "source": [
    "# from urllib.request import urlretrieve "
   ]
  },
  {
   "cell_type": "code",
   "execution_count": 10,
   "metadata": {},
   "outputs": [],
   "source": [
    "from os import getcwd,makedirs"
   ]
  },
  {
   "cell_type": "code",
   "execution_count": 11,
   "metadata": {},
   "outputs": [],
   "source": [
    "from os.path import join,isdir"
   ]
  },
  {
   "cell_type": "code",
   "execution_count": 12,
   "metadata": {},
   "outputs": [],
   "source": [
    "from cv2 import imshow,waitKey,destroyAllWindows,imread,IMREAD_COLOR,imdecode,resize,cvtColor,imwrite,COLOR_BGR2RGB"
   ]
  },
  {
   "cell_type": "code",
   "execution_count": 13,
   "metadata": {},
   "outputs": [],
   "source": [
    "from skimage import io"
   ]
  },
  {
   "cell_type": "code",
   "execution_count": 43,
   "metadata": {},
   "outputs": [],
   "source": [
    "from base64 import b64decode,urlsafe_b64decode"
   ]
  },
  {
   "cell_type": "code",
   "execution_count": 15,
   "metadata": {},
   "outputs": [],
   "source": [
    "from numpy import fromstring,uint8,frombuffer"
   ]
  },
  {
   "cell_type": "code",
   "execution_count": 16,
   "metadata": {},
   "outputs": [],
   "source": [
    "options = ChromeOptions()\n",
    "options.add_argument(\"--headless\")"
   ]
  },
  {
   "cell_type": "code",
   "execution_count": 17,
   "metadata": {},
   "outputs": [
    {
     "name": "stdout",
     "output_type": "stream",
     "text": [
      "https://www.google.com/images?q=Pooja Hede\n"
     ]
    }
   ],
   "source": [
    "query = input(\"Enter the keyword : \").title()\n",
    "default_url = \"https://www.google.com/images?q=\" + query\n",
    "\n",
    "print(default_url)"
   ]
  },
  {
   "cell_type": "code",
   "execution_count": 18,
   "metadata": {},
   "outputs": [],
   "source": [
    "cm = ChromeDriverManager()\n",
    "driver = Chrome(service=Service(cm.install()),options=None)"
   ]
  },
  {
   "cell_type": "code",
   "execution_count": 19,
   "metadata": {},
   "outputs": [],
   "source": [
    "driver.get(default_url)"
   ]
  },
  {
   "cell_type": "code",
   "execution_count": 20,
   "metadata": {},
   "outputs": [],
   "source": [
    "# driver.maximize_window()"
   ]
  },
  {
   "cell_type": "code",
   "execution_count": 21,
   "metadata": {},
   "outputs": [],
   "source": [
    "wait = WebDriverWait(driver,300)"
   ]
  },
  {
   "cell_type": "code",
   "execution_count": 22,
   "metadata": {},
   "outputs": [],
   "source": [
    "atags = wait.until(presence_of_all_elements_located((By.TAG_NAME,\"img\")))"
   ]
  },
  {
   "cell_type": "code",
   "execution_count": 23,
   "metadata": {},
   "outputs": [
    {
     "data": {
      "text/plain": [
       "False"
      ]
     },
     "execution_count": 23,
     "metadata": {},
     "output_type": "execute_result"
    }
   ],
   "source": [
    "driver.find_element(By.CLASS_NAME,\"LZ4I\").is_displayed()"
   ]
  },
  {
   "cell_type": "code",
   "execution_count": 24,
   "metadata": {},
   "outputs": [],
   "source": [
    "show_more = driver.find_element(By.CLASS_NAME,\"LZ4I\")"
   ]
  },
  {
   "cell_type": "code",
   "execution_count": 25,
   "metadata": {},
   "outputs": [],
   "source": [
    "end_xpath = \"/html/body/div[2]/c-wiz/div[3]/div[1]/div/div/div/div/div[1]/div[2]/div[1]/div[2]/div[1]/div\"\n",
    "more_anyway = \"/html/body/div[2]/c-wiz/div[3]/div[1]/div/div/div/div/div[2]\"\n"
   ]
  },
  {
   "cell_type": "code",
   "execution_count": 26,
   "metadata": {},
   "outputs": [
    {
     "name": "stdout",
     "output_type": "stream",
     "text": [
      "scrolling\n",
      "scrolling\n",
      "scrolling\n",
      "scrolling\n",
      "scrolling\n",
      "scrolling\n",
      "scrolling\n",
      "scrolling\n",
      "scrolling\n",
      "scrolling\n",
      "scrolling\n",
      "scrolling\n",
      "scrolling\n",
      "scrolling\n",
      "scrolling\n",
      "scrolling\n",
      "scrolling\n",
      "scrolling\n",
      "Show more clicked\n",
      "scrolling\n",
      "scrolling\n",
      "scrolling\n",
      "scrolling\n",
      "scrolling\n",
      "scrolling\n",
      "scrolling\n",
      "scrolling\n",
      "scrolling\n",
      "scrolling\n",
      "Reached the page end...\n"
     ]
    }
   ],
   "source": [
    "while not is_pressed('esc'):\n",
    "\n",
    "    try:\n",
    "        end = driver.find_element(By.XPATH,end_xpath)\n",
    "        more = driver.find_element(By.XPATH,more_anyway)\n",
    "        assert not end.is_displayed()\n",
    "        assert not more.is_displayed()\n",
    "\n",
    "    except NoSuchElementException:\n",
    "        pass\n",
    "\n",
    "    except AssertionError:\n",
    "        break\n",
    "    \n",
    "    driver.execute_script(\"window.scrollTo(0,document.body.scrollHeight)\")\n",
    "    print(\"scrolling\")\n",
    "    if show_more.is_displayed():\n",
    "        print(\"Show more clicked\")\n",
    "        show_more.click() \n",
    "\n",
    "print(\"Reached the page end...\")"
   ]
  },
  {
   "cell_type": "code",
   "execution_count": 27,
   "metadata": {},
   "outputs": [],
   "source": [
    "common_link = \"https://encrypted-tbn0.gstatic.com/images?q\""
   ]
  },
  {
   "cell_type": "code",
   "execution_count": 54,
   "metadata": {},
   "outputs": [
    {
     "name": "stdout",
     "output_type": "stream",
     "text": [
      "https://lens.google.com/gen204\n",
      "https://www.gstatic.com/ui/v1/menu/light_thumbnail2.png\n",
      "https://www.gstatic.com/ui/v1/menu/dark_thumbnail2.png\n",
      "https://www.gstatic.com/ui/v1/menu/device_default_thumbnail2.png\n",
      "https://encrypted-tbn2.gstatic.com/faviconV2?url=https://timesofindia.indiatimes.com&client=VFE&size=16&type=FAVICON&fallback_opts=TYPE,SIZE,URL&nfrp=2\n",
      "https://encrypted-tbn2.gstatic.com/faviconV2?url=https://facebook.com&client=VFE&size=16&type=FAVICON&fallback_opts=TYPE,SIZE,URL&nfrp=2\n",
      "https://encrypted-tbn2.gstatic.com/faviconV2?url=https://twitter.com&client=VFE&size=16&type=FAVICON&fallback_opts=TYPE,SIZE,URL&nfrp=2\n",
      "https://encrypted-tbn2.gstatic.com/faviconV2?url=https://timesofindia.indiatimes.com&client=VFE&size=16&type=FAVICON&fallback_opts=TYPE,SIZE,URL&nfrp=2\n",
      "https://encrypted-tbn2.gstatic.com/faviconV2?url=https://imdb.com&client=VFE&size=16&type=FAVICON&fallback_opts=TYPE,SIZE,URL&nfrp=2\n",
      "https://encrypted-tbn2.gstatic.com/faviconV2?url=https://bollywoodhungama.com&client=VFE&size=16&type=FAVICON&fallback_opts=TYPE,SIZE,URL&nfrp=2\n",
      "https://encrypted-tbn2.gstatic.com/faviconV2?url=https://cinejosh.com&client=VFE&size=16&type=FAVICON&fallback_opts=TYPE,SIZE,URL&nfrp=2\n",
      "https://encrypted-tbn2.gstatic.com/faviconV2?url=https://zeebiz.com&client=VFE&size=16&type=FAVICON&fallback_opts=TYPE,SIZE,URL&nfrp=2\n",
      "https://encrypted-tbn2.gstatic.com/faviconV2?url=https://timesofindia.indiatimes.com&client=VFE&size=16&type=FAVICON&fallback_opts=TYPE,SIZE,URL&nfrp=2\n",
      "https://encrypted-tbn2.gstatic.com/faviconV2?url=https://filmfare.com&client=VFE&size=16&type=FAVICON&fallback_opts=TYPE,SIZE,URL&nfrp=2\n",
      "https://encrypted-tbn2.gstatic.com/faviconV2?url=https://timesnownews.com&client=VFE&size=16&type=FAVICON&fallback_opts=TYPE,SIZE,URL&nfrp=2\n",
      "https://encrypted-tbn2.gstatic.com/faviconV2?url=https://devnaagri.com&client=VFE&size=16&type=FAVICON&fallback_opts=TYPE,SIZE,URL&nfrp=2\n",
      "https://encrypted-tbn2.gstatic.com/faviconV2?url=https://english.tupaki.com&client=VFE&size=16&type=FAVICON&fallback_opts=TYPE,SIZE,URL&nfrp=2\n",
      "https://encrypted-tbn2.gstatic.com/faviconV2?url=https://m.economictimes.com&client=VFE&size=16&type=FAVICON&fallback_opts=TYPE,SIZE,URL&nfrp=2\n",
      "https://encrypted-tbn2.gstatic.com/faviconV2?url=https://instagram.com&client=VFE&size=16&type=FAVICON&fallback_opts=TYPE,SIZE,URL&nfrp=2\n",
      "https://encrypted-tbn2.gstatic.com/faviconV2?url=https://gulte.com&client=VFE&size=16&type=FAVICON&fallback_opts=TYPE,SIZE,URL&nfrp=2\n",
      "https://encrypted-tbn2.gstatic.com/faviconV2?url=https://peakpx.com&client=VFE&size=16&type=FAVICON&fallback_opts=TYPE,SIZE,URL&nfrp=2\n",
      "https://encrypted-tbn2.gstatic.com/faviconV2?url=https://informalnewz.com&client=VFE&size=16&type=FAVICON&fallback_opts=TYPE,SIZE,URL&nfrp=2\n",
      "https://encrypted-tbn2.gstatic.com/faviconV2?url=https://123telugu.com&client=VFE&size=16&type=FAVICON&fallback_opts=TYPE,SIZE,URL&nfrp=2\n",
      "https://encrypted-tbn2.gstatic.com/faviconV2?url=https://akankshagajria.in&client=VFE&size=16&type=FAVICON&fallback_opts=TYPE,SIZE,URL&nfrp=2\n",
      "https://encrypted-tbn2.gstatic.com/faviconV2?url=https://devnaagri.com&client=VFE&size=16&type=FAVICON&fallback_opts=TYPE,SIZE,URL&nfrp=2\n",
      "https://encrypted-tbn2.gstatic.com/faviconV2?url=https://ndtv.com&client=VFE&size=16&type=FAVICON&fallback_opts=TYPE,SIZE,URL&nfrp=2\n",
      "https://encrypted-tbn2.gstatic.com/faviconV2?url=https://timesofindia.indiatimes.com&client=VFE&size=16&type=FAVICON&fallback_opts=TYPE,SIZE,URL&nfrp=2\n",
      "https://encrypted-tbn2.gstatic.com/faviconV2?url=https://swirlster.ndtv.com&client=VFE&size=16&type=FAVICON&fallback_opts=TYPE,SIZE,URL&nfrp=2\n",
      "https://encrypted-tbn2.gstatic.com/faviconV2?url=https://english.tupaki.com&client=VFE&size=16&type=FAVICON&fallback_opts=TYPE,SIZE,URL&nfrp=2\n",
      "https://encrypted-tbn2.gstatic.com/faviconV2?url=https://zeenews.india.com&client=VFE&size=16&type=FAVICON&fallback_opts=TYPE,SIZE,URL&nfrp=2\n",
      "https://encrypted-tbn2.gstatic.com/faviconV2?url=https://reddit.com&client=VFE&size=16&type=FAVICON&fallback_opts=TYPE,SIZE,URL&nfrp=2\n",
      "https://encrypted-tbn2.gstatic.com/faviconV2?url=https://telugucinema.com&client=VFE&size=16&type=FAVICON&fallback_opts=TYPE,SIZE,URL&nfrp=2\n",
      "https://encrypted-tbn2.gstatic.com/faviconV2?url=https://filmfare.com&client=VFE&size=16&type=FAVICON&fallback_opts=TYPE,SIZE,URL&nfrp=2\n",
      "https://encrypted-tbn2.gstatic.com/faviconV2?url=https://udayavani.com&client=VFE&size=16&type=FAVICON&fallback_opts=TYPE,SIZE,URL&nfrp=2\n",
      "https://encrypted-tbn2.gstatic.com/faviconV2?url=https://m.timesofindia.com&client=VFE&size=16&type=FAVICON&fallback_opts=TYPE,SIZE,URL&nfrp=2\n",
      "https://encrypted-tbn2.gstatic.com/faviconV2?url=https://in.pinterest.com&client=VFE&size=16&type=FAVICON&fallback_opts=TYPE,SIZE,URL&nfrp=2\n",
      "https://encrypted-tbn2.gstatic.com/faviconV2?url=https://lifestyleasia.com&client=VFE&size=16&type=FAVICON&fallback_opts=TYPE,SIZE,URL&nfrp=2\n",
      "https://encrypted-tbn2.gstatic.com/faviconV2?url=https://thebiographywala.com&client=VFE&size=16&type=FAVICON&fallback_opts=TYPE,SIZE,URL&nfrp=2\n",
      "https://encrypted-tbn2.gstatic.com/faviconV2?url=https://ndtv.com&client=VFE&size=16&type=FAVICON&fallback_opts=TYPE,SIZE,URL&nfrp=2\n",
      "https://encrypted-tbn2.gstatic.com/faviconV2?url=https://filmfare.com&client=VFE&size=16&type=FAVICON&fallback_opts=TYPE,SIZE,URL&nfrp=2\n",
      "https://encrypted-tbn2.gstatic.com/faviconV2?url=https://deccanherald.com&client=VFE&size=16&type=FAVICON&fallback_opts=TYPE,SIZE,URL&nfrp=2\n",
      "https://encrypted-tbn2.gstatic.com/faviconV2?url=https://m.timesofindia.com&client=VFE&size=16&type=FAVICON&fallback_opts=TYPE,SIZE,URL&nfrp=2\n",
      "https://encrypted-tbn2.gstatic.com/faviconV2?url=https://jagran.com&client=VFE&size=16&type=FAVICON&fallback_opts=TYPE,SIZE,URL&nfrp=2\n",
      "https://encrypted-tbn2.gstatic.com/faviconV2?url=https://timesnownews.com&client=VFE&size=16&type=FAVICON&fallback_opts=TYPE,SIZE,URL&nfrp=2\n",
      "https://encrypted-tbn2.gstatic.com/faviconV2?url=https://hindustantimes.com&client=VFE&size=16&type=FAVICON&fallback_opts=TYPE,SIZE,URL&nfrp=2\n",
      "https://encrypted-tbn2.gstatic.com/faviconV2?url=https://indiatoday.in&client=VFE&size=16&type=FAVICON&fallback_opts=TYPE,SIZE,URL&nfrp=2\n",
      "https://encrypted-tbn2.gstatic.com/faviconV2?url=https://siasat.com&client=VFE&size=16&type=FAVICON&fallback_opts=TYPE,SIZE,URL&nfrp=2\n",
      "https://encrypted-tbn2.gstatic.com/faviconV2?url=https://yovizag.com&client=VFE&size=16&type=FAVICON&fallback_opts=TYPE,SIZE,URL&nfrp=2\n",
      "https://encrypted-tbn2.gstatic.com/faviconV2?url=https://odishatv.in&client=VFE&size=16&type=FAVICON&fallback_opts=TYPE,SIZE,URL&nfrp=2\n",
      "https://encrypted-tbn2.gstatic.com/faviconV2?url=https://ntvenglish.com&client=VFE&size=16&type=FAVICON&fallback_opts=TYPE,SIZE,URL&nfrp=2\n",
      "https://encrypted-tbn2.gstatic.com/faviconV2?url=https://en.wikipedia.org&client=VFE&size=16&type=FAVICON&fallback_opts=TYPE,SIZE,URL&nfrp=2\n",
      "https://encrypted-tbn2.gstatic.com/faviconV2?url=https://filmfare.com&client=VFE&size=16&type=FAVICON&fallback_opts=TYPE,SIZE,URL&nfrp=2\n",
      "https://encrypted-tbn2.gstatic.com/faviconV2?url=https://tribuneindia.com&client=VFE&size=16&type=FAVICON&fallback_opts=TYPE,SIZE,URL&nfrp=2\n",
      "https://encrypted-tbn2.gstatic.com/faviconV2?url=https://vogue.in&client=VFE&size=16&type=FAVICON&fallback_opts=TYPE,SIZE,URL&nfrp=2\n",
      "https://encrypted-tbn2.gstatic.com/faviconV2?url=https://cinejosh.com&client=VFE&size=16&type=FAVICON&fallback_opts=TYPE,SIZE,URL&nfrp=2\n",
      "https://encrypted-tbn2.gstatic.com/faviconV2?url=https://m9.news&client=VFE&size=16&type=FAVICON&fallback_opts=TYPE,SIZE,URL&nfrp=2\n",
      "https://encrypted-tbn2.gstatic.com/faviconV2?url=https://indianexpress.com&client=VFE&size=16&type=FAVICON&fallback_opts=TYPE,SIZE,URL&nfrp=2\n",
      "https://encrypted-tbn2.gstatic.com/faviconV2?url=https://javatpoint.com&client=VFE&size=16&type=FAVICON&fallback_opts=TYPE,SIZE,URL&nfrp=2\n",
      "https://encrypted-tbn2.gstatic.com/faviconV2?url=https://news18.com&client=VFE&size=16&type=FAVICON&fallback_opts=TYPE,SIZE,URL&nfrp=2\n",
      "https://encrypted-tbn2.gstatic.com/faviconV2?url=https://ragalahari.com&client=VFE&size=16&type=FAVICON&fallback_opts=TYPE,SIZE,URL&nfrp=2\n",
      "https://encrypted-tbn2.gstatic.com/faviconV2?url=https://en.wikipedia.org&client=VFE&size=16&type=FAVICON&fallback_opts=TYPE,SIZE,URL&nfrp=2\n",
      "https://encrypted-tbn2.gstatic.com/faviconV2?url=https://devnaagri.com&client=VFE&size=16&type=FAVICON&fallback_opts=TYPE,SIZE,URL&nfrp=2\n",
      "https://encrypted-tbn2.gstatic.com/faviconV2?url=https://tupaki.com&client=VFE&size=16&type=FAVICON&fallback_opts=TYPE,SIZE,URL&nfrp=2\n",
      "https://encrypted-tbn2.gstatic.com/faviconV2?url=https://abplive.com&client=VFE&size=16&type=FAVICON&fallback_opts=TYPE,SIZE,URL&nfrp=2\n",
      "https://encrypted-tbn2.gstatic.com/faviconV2?url=https://pinkvilla.com&client=VFE&size=16&type=FAVICON&fallback_opts=TYPE,SIZE,URL&nfrp=2\n",
      "https://encrypted-tbn2.gstatic.com/faviconV2?url=https://telanganatoday.com&client=VFE&size=16&type=FAVICON&fallback_opts=TYPE,SIZE,URL&nfrp=2\n",
      "https://encrypted-tbn2.gstatic.com/faviconV2?url=https://m.timesofindia.com&client=VFE&size=16&type=FAVICON&fallback_opts=TYPE,SIZE,URL&nfrp=2\n",
      "https://encrypted-tbn2.gstatic.com/faviconV2?url=https://zeenews.india.com&client=VFE&size=16&type=FAVICON&fallback_opts=TYPE,SIZE,URL&nfrp=2\n",
      "https://encrypted-tbn2.gstatic.com/faviconV2?url=https://bebeautiful.in&client=VFE&size=16&type=FAVICON&fallback_opts=TYPE,SIZE,URL&nfrp=2\n",
      "https://encrypted-tbn2.gstatic.com/faviconV2?url=https://indianexpress.com&client=VFE&size=16&type=FAVICON&fallback_opts=TYPE,SIZE,URL&nfrp=2\n",
      "https://encrypted-tbn2.gstatic.com/faviconV2?url=https://timesofindia.indiatimes.com&client=VFE&size=16&type=FAVICON&fallback_opts=TYPE,SIZE,URL&nfrp=2\n",
      "https://encrypted-tbn2.gstatic.com/faviconV2?url=https://sambadenglish.com&client=VFE&size=16&type=FAVICON&fallback_opts=TYPE,SIZE,URL&nfrp=2\n",
      "https://encrypted-tbn2.gstatic.com/faviconV2?url=https://english.tupaki.com&client=VFE&size=16&type=FAVICON&fallback_opts=TYPE,SIZE,URL&nfrp=2\n",
      "https://encrypted-tbn2.gstatic.com/faviconV2?url=https://thestatesman.com&client=VFE&size=16&type=FAVICON&fallback_opts=TYPE,SIZE,URL&nfrp=2\n",
      "https://encrypted-tbn2.gstatic.com/faviconV2?url=https://m9.news&client=VFE&size=16&type=FAVICON&fallback_opts=TYPE,SIZE,URL&nfrp=2\n",
      "https://encrypted-tbn2.gstatic.com/faviconV2?url=https://gulte.com&client=VFE&size=16&type=FAVICON&fallback_opts=TYPE,SIZE,URL&nfrp=2\n",
      "https://encrypted-tbn2.gstatic.com/faviconV2?url=https://thehansindia.com&client=VFE&size=16&type=FAVICON&fallback_opts=TYPE,SIZE,URL&nfrp=2\n",
      "https://encrypted-tbn2.gstatic.com/faviconV2?url=https://m9.news&client=VFE&size=16&type=FAVICON&fallback_opts=TYPE,SIZE,URL&nfrp=2\n",
      "https://encrypted-tbn2.gstatic.com/faviconV2?url=https://123telugu.com&client=VFE&size=16&type=FAVICON&fallback_opts=TYPE,SIZE,URL&nfrp=2\n",
      "https://encrypted-tbn2.gstatic.com/faviconV2?url=https://indiatoday.in&client=VFE&size=16&type=FAVICON&fallback_opts=TYPE,SIZE,URL&nfrp=2\n",
      "https://encrypted-tbn2.gstatic.com/faviconV2?url=https://cinejosh.com&client=VFE&size=16&type=FAVICON&fallback_opts=TYPE,SIZE,URL&nfrp=2\n",
      "https://encrypted-tbn2.gstatic.com/faviconV2?url=https://ragalahari.com&client=VFE&size=16&type=FAVICON&fallback_opts=TYPE,SIZE,URL&nfrp=2\n",
      "https://encrypted-tbn2.gstatic.com/faviconV2?url=https://moviescast.in&client=VFE&size=16&type=FAVICON&fallback_opts=TYPE,SIZE,URL&nfrp=2\n",
      "https://encrypted-tbn2.gstatic.com/faviconV2?url=https://bollywoodhungama.com&client=VFE&size=16&type=FAVICON&fallback_opts=TYPE,SIZE,URL&nfrp=2\n",
      "https://encrypted-tbn2.gstatic.com/faviconV2?url=https://hindustantimes.com&client=VFE&size=16&type=FAVICON&fallback_opts=TYPE,SIZE,URL&nfrp=2\n",
      "https://encrypted-tbn2.gstatic.com/faviconV2?url=https://indiatvnews.com&client=VFE&size=16&type=FAVICON&fallback_opts=TYPE,SIZE,URL&nfrp=2\n",
      "https://encrypted-tbn2.gstatic.com/faviconV2?url=https://northeastherald.in&client=VFE&size=16&type=FAVICON&fallback_opts=TYPE,SIZE,URL&nfrp=2\n",
      "https://encrypted-tbn2.gstatic.com/faviconV2?url=https://odishatv.in&client=VFE&size=16&type=FAVICON&fallback_opts=TYPE,SIZE,URL&nfrp=2\n",
      "https://encrypted-tbn2.gstatic.com/faviconV2?url=https://news18.com&client=VFE&size=16&type=FAVICON&fallback_opts=TYPE,SIZE,URL&nfrp=2\n",
      "https://encrypted-tbn2.gstatic.com/faviconV2?url=https://pxfuel.com&client=VFE&size=16&type=FAVICON&fallback_opts=TYPE,SIZE,URL&nfrp=2\n",
      "https://encrypted-tbn2.gstatic.com/faviconV2?url=https://filmibeat.com&client=VFE&size=16&type=FAVICON&fallback_opts=TYPE,SIZE,URL&nfrp=2\n",
      "https://encrypted-tbn2.gstatic.com/faviconV2?url=https://abplive.com&client=VFE&size=16&type=FAVICON&fallback_opts=TYPE,SIZE,URL&nfrp=2\n",
      "https://encrypted-tbn2.gstatic.com/faviconV2?url=https://travelandleisureasia.com&client=VFE&size=16&type=FAVICON&fallback_opts=TYPE,SIZE,URL&nfrp=2\n",
      "https://encrypted-tbn2.gstatic.com/faviconV2?url=https://latestly.com&client=VFE&size=16&type=FAVICON&fallback_opts=TYPE,SIZE,URL&nfrp=2\n",
      "https://encrypted-tbn2.gstatic.com/faviconV2?url=https://starsunfolded.co&client=VFE&size=16&type=FAVICON&fallback_opts=TYPE,SIZE,URL&nfrp=2\n",
      "https://encrypted-tbn2.gstatic.com/faviconV2?url=https://telanganatoday.com&client=VFE&size=16&type=FAVICON&fallback_opts=TYPE,SIZE,URL&nfrp=2\n",
      "https://encrypted-tbn2.gstatic.com/faviconV2?url=https://ottplay.com&client=VFE&size=16&type=FAVICON&fallback_opts=TYPE,SIZE,URL&nfrp=2\n",
      "https://encrypted-tbn2.gstatic.com/faviconV2?url=https://123telugu.com&client=VFE&size=16&type=FAVICON&fallback_opts=TYPE,SIZE,URL&nfrp=2\n",
      "https://encrypted-tbn2.gstatic.com/faviconV2?url=https://youtube.com&client=VFE&size=16&type=FAVICON&fallback_opts=TYPE,SIZE,URL&nfrp=2\n",
      "https://encrypted-tbn2.gstatic.com/faviconV2?url=https://zeenews.india.com&client=VFE&size=16&type=FAVICON&fallback_opts=TYPE,SIZE,URL&nfrp=2\n",
      "https://encrypted-tbn2.gstatic.com/faviconV2?url=https://telegraphindia.com&client=VFE&size=16&type=FAVICON&fallback_opts=TYPE,SIZE,URL&nfrp=2\n",
      "https://encrypted-tbn2.gstatic.com/faviconV2?url=https://socialnews.xyz&client=VFE&size=16&type=FAVICON&fallback_opts=TYPE,SIZE,URL&nfrp=2\n",
      "https://encrypted-tbn2.gstatic.com/faviconV2?url=https://travelandleisureasia.com&client=VFE&size=16&type=FAVICON&fallback_opts=TYPE,SIZE,URL&nfrp=2\n",
      "https://encrypted-tbn2.gstatic.com/faviconV2?url=https://beatoflife.in&client=VFE&size=16&type=FAVICON&fallback_opts=TYPE,SIZE,URL&nfrp=2\n",
      "https://encrypted-tbn2.gstatic.com/faviconV2?url=https://tutorialandexample.com&client=VFE&size=16&type=FAVICON&fallback_opts=TYPE,SIZE,URL&nfrp=2\n",
      "https://encrypted-tbn2.gstatic.com/faviconV2?url=https://thehansindia.com&client=VFE&size=16&type=FAVICON&fallback_opts=TYPE,SIZE,URL&nfrp=2\n",
      "https://encrypted-tbn2.gstatic.com/faviconV2?url=https://easterneye.biz&client=VFE&size=16&type=FAVICON&fallback_opts=TYPE,SIZE,URL&nfrp=2\n",
      "https://encrypted-tbn2.gstatic.com/faviconV2?url=https://crickettimes.com&client=VFE&size=16&type=FAVICON&fallback_opts=TYPE,SIZE,URL&nfrp=2\n",
      "https://encrypted-tbn2.gstatic.com/faviconV2?url=https://telugubulletin.com&client=VFE&size=16&type=FAVICON&fallback_opts=TYPE,SIZE,URL&nfrp=2\n",
      "https://encrypted-tbn2.gstatic.com/faviconV2?url=https://southindiafashion.com&client=VFE&size=16&type=FAVICON&fallback_opts=TYPE,SIZE,URL&nfrp=2\n",
      "https://encrypted-tbn2.gstatic.com/faviconV2?url=https://computersjagat.com&client=VFE&size=16&type=FAVICON&fallback_opts=TYPE,SIZE,URL&nfrp=2\n",
      "https://encrypted-tbn2.gstatic.com/faviconV2?url=https://pinkvilla.com&client=VFE&size=16&type=FAVICON&fallback_opts=TYPE,SIZE,URL&nfrp=2\n",
      "https://encrypted-tbn2.gstatic.com/faviconV2?url=https://reddit.com&client=VFE&size=16&type=FAVICON&fallback_opts=TYPE,SIZE,URL&nfrp=2\n",
      "https://encrypted-tbn2.gstatic.com/faviconV2?url=https://english.jagran.com&client=VFE&size=16&type=FAVICON&fallback_opts=TYPE,SIZE,URL&nfrp=2\n",
      "https://encrypted-tbn2.gstatic.com/faviconV2?url=https://english.newstracklive.com&client=VFE&size=16&type=FAVICON&fallback_opts=TYPE,SIZE,URL&nfrp=2\n",
      "https://encrypted-tbn2.gstatic.com/faviconV2?url=https://bollywoodshaadis.com&client=VFE&size=16&type=FAVICON&fallback_opts=TYPE,SIZE,URL&nfrp=2\n",
      "https://encrypted-tbn2.gstatic.com/faviconV2?url=https://latestly.com&client=VFE&size=16&type=FAVICON&fallback_opts=TYPE,SIZE,URL&nfrp=2\n",
      "https://encrypted-tbn2.gstatic.com/faviconV2?url=https://tracktollywood.com&client=VFE&size=16&type=FAVICON&fallback_opts=TYPE,SIZE,URL&nfrp=2\n",
      "https://encrypted-tbn2.gstatic.com/faviconV2?url=https://hindustantimes.com&client=VFE&size=16&type=FAVICON&fallback_opts=TYPE,SIZE,URL&nfrp=2\n",
      "https://encrypted-tbn2.gstatic.com/faviconV2?url=https://hindi.news24online.com&client=VFE&size=16&type=FAVICON&fallback_opts=TYPE,SIZE,URL&nfrp=2\n",
      "https://encrypted-tbn2.gstatic.com/faviconV2?url=https://ap7am.com&client=VFE&size=16&type=FAVICON&fallback_opts=TYPE,SIZE,URL&nfrp=2\n",
      "https://encrypted-tbn2.gstatic.com/faviconV2?url=https://telugucinema.com&client=VFE&size=16&type=FAVICON&fallback_opts=TYPE,SIZE,URL&nfrp=2\n",
      "https://encrypted-tbn2.gstatic.com/faviconV2?url=https://indiaherald.com&client=VFE&size=16&type=FAVICON&fallback_opts=TYPE,SIZE,URL&nfrp=2\n",
      "https://encrypted-tbn2.gstatic.com/faviconV2?url=https://iwmbuzz.com&client=VFE&size=16&type=FAVICON&fallback_opts=TYPE,SIZE,URL&nfrp=2\n",
      "https://encrypted-tbn2.gstatic.com/faviconV2?url=https://outlookindia.com&client=VFE&size=16&type=FAVICON&fallback_opts=TYPE,SIZE,URL&nfrp=2\n",
      "https://encrypted-tbn2.gstatic.com/faviconV2?url=https://gulte.com&client=VFE&size=16&type=FAVICON&fallback_opts=TYPE,SIZE,URL&nfrp=2\n",
      "https://encrypted-tbn2.gstatic.com/faviconV2?url=https://aajtak.in&client=VFE&size=16&type=FAVICON&fallback_opts=TYPE,SIZE,URL&nfrp=2\n",
      "https://encrypted-tbn2.gstatic.com/faviconV2?url=https://gulfnews.com&client=VFE&size=16&type=FAVICON&fallback_opts=TYPE,SIZE,URL&nfrp=2\n",
      "https://encrypted-tbn2.gstatic.com/faviconV2?url=https://mirchi.in&client=VFE&size=16&type=FAVICON&fallback_opts=TYPE,SIZE,URL&nfrp=2\n",
      "https://encrypted-tbn2.gstatic.com/faviconV2?url=https://in.hellomagazine.com&client=VFE&size=16&type=FAVICON&fallback_opts=TYPE,SIZE,URL&nfrp=2\n",
      "https://encrypted-tbn2.gstatic.com/faviconV2?url=https://aajtak.in&client=VFE&size=16&type=FAVICON&fallback_opts=TYPE,SIZE,URL&nfrp=2\n",
      "https://encrypted-tbn2.gstatic.com/faviconV2?url=https://facebook.com&client=VFE&size=16&type=FAVICON&fallback_opts=TYPE,SIZE,URL&nfrp=2\n",
      "https://encrypted-tbn2.gstatic.com/faviconV2?url=https://gethucinema.com&client=VFE&size=16&type=FAVICON&fallback_opts=TYPE,SIZE,URL&nfrp=2\n",
      "https://encrypted-tbn2.gstatic.com/faviconV2?url=https://zeenews.india.com&client=VFE&size=16&type=FAVICON&fallback_opts=TYPE,SIZE,URL&nfrp=2\n",
      "https://encrypted-tbn2.gstatic.com/faviconV2?url=https://odishatv.in&client=VFE&size=16&type=FAVICON&fallback_opts=TYPE,SIZE,URL&nfrp=2\n",
      "https://encrypted-tbn2.gstatic.com/faviconV2?url=https://v6velugu.com&client=VFE&size=16&type=FAVICON&fallback_opts=TYPE,SIZE,URL&nfrp=2\n",
      "https://encrypted-tbn2.gstatic.com/faviconV2?url=https://abplive.com&client=VFE&size=16&type=FAVICON&fallback_opts=TYPE,SIZE,URL&nfrp=2\n",
      "https://encrypted-tbn2.gstatic.com/faviconV2?url=https://mid-day.com&client=VFE&size=16&type=FAVICON&fallback_opts=TYPE,SIZE,URL&nfrp=2\n",
      "https://encrypted-tbn2.gstatic.com/faviconV2?url=https://pxfuel.com&client=VFE&size=16&type=FAVICON&fallback_opts=TYPE,SIZE,URL&nfrp=2\n",
      "https://encrypted-tbn2.gstatic.com/faviconV2?url=https://thehansindia.com&client=VFE&size=16&type=FAVICON&fallback_opts=TYPE,SIZE,URL&nfrp=2\n",
      "https://encrypted-tbn2.gstatic.com/faviconV2?url=https://koimoi.com&client=VFE&size=16&type=FAVICON&fallback_opts=TYPE,SIZE,URL&nfrp=2\n",
      "https://encrypted-tbn2.gstatic.com/faviconV2?url=https://gettyimages.in&client=VFE&size=16&type=FAVICON&fallback_opts=TYPE,SIZE,URL&nfrp=2\n",
      "https://encrypted-tbn2.gstatic.com/faviconV2?url=https://in.bookmyshow.com&client=VFE&size=16&type=FAVICON&fallback_opts=TYPE,SIZE,URL&nfrp=2\n",
      "https://encrypted-tbn2.gstatic.com/faviconV2?url=https://cinejosh.com&client=VFE&size=16&type=FAVICON&fallback_opts=TYPE,SIZE,URL&nfrp=2\n",
      "https://encrypted-tbn2.gstatic.com/faviconV2?url=https://filmibeat.com&client=VFE&size=16&type=FAVICON&fallback_opts=TYPE,SIZE,URL&nfrp=2\n",
      "https://encrypted-tbn2.gstatic.com/faviconV2?url=https://newsroompost.com&client=VFE&size=16&type=FAVICON&fallback_opts=TYPE,SIZE,URL&nfrp=2\n",
      "https://encrypted-tbn2.gstatic.com/faviconV2?url=https://admin.tellychakkar.com&client=VFE&size=16&type=FAVICON&fallback_opts=TYPE,SIZE,URL&nfrp=2\n",
      "https://encrypted-tbn2.gstatic.com/faviconV2?url=https://in.pinterest.com&client=VFE&size=16&type=FAVICON&fallback_opts=TYPE,SIZE,URL&nfrp=2\n",
      "https://encrypted-tbn2.gstatic.com/faviconV2?url=https://bollywoodbubble.com&client=VFE&size=16&type=FAVICON&fallback_opts=TYPE,SIZE,URL&nfrp=2\n",
      "https://encrypted-tbn2.gstatic.com/faviconV2?url=https://prokerala.com&client=VFE&size=16&type=FAVICON&fallback_opts=TYPE,SIZE,URL&nfrp=2\n",
      "https://encrypted-tbn2.gstatic.com/faviconV2?url=https://weeklyvoice.com&client=VFE&size=16&type=FAVICON&fallback_opts=TYPE,SIZE,URL&nfrp=2\n",
      "https://encrypted-tbn2.gstatic.com/faviconV2?url=https://bizasialive.com&client=VFE&size=16&type=FAVICON&fallback_opts=TYPE,SIZE,URL&nfrp=2\n",
      "https://encrypted-tbn2.gstatic.com/faviconV2?url=https://informalnewz.com&client=VFE&size=16&type=FAVICON&fallback_opts=TYPE,SIZE,URL&nfrp=2\n",
      "https://encrypted-tbn2.gstatic.com/faviconV2?url=https://ptinews.com&client=VFE&size=16&type=FAVICON&fallback_opts=TYPE,SIZE,URL&nfrp=2\n",
      "https://encrypted-tbn2.gstatic.com/faviconV2?url=https://vogue.in&client=VFE&size=16&type=FAVICON&fallback_opts=TYPE,SIZE,URL&nfrp=2\n",
      "https://encrypted-tbn2.gstatic.com/faviconV2?url=https://zeenatstyle.com&client=VFE&size=16&type=FAVICON&fallback_opts=TYPE,SIZE,URL&nfrp=2\n",
      "https://encrypted-tbn2.gstatic.com/faviconV2?url=https://m.youtube.com&client=VFE&size=16&type=FAVICON&fallback_opts=TYPE,SIZE,URL&nfrp=2\n",
      "https://encrypted-tbn2.gstatic.com/faviconV2?url=https://devnaagri.com&client=VFE&size=16&type=FAVICON&fallback_opts=TYPE,SIZE,URL&nfrp=2\n",
      "https://encrypted-tbn2.gstatic.com/faviconV2?url=https://indiaforums.com&client=VFE&size=16&type=FAVICON&fallback_opts=TYPE,SIZE,URL&nfrp=2\n",
      "https://encrypted-tbn2.gstatic.com/faviconV2?url=https://wirally.com&client=VFE&size=16&type=FAVICON&fallback_opts=TYPE,SIZE,URL&nfrp=2\n",
      "https://encrypted-tbn2.gstatic.com/faviconV2?url=https://telugustop.com&client=VFE&size=16&type=FAVICON&fallback_opts=TYPE,SIZE,URL&nfrp=2\n",
      "https://encrypted-tbn2.gstatic.com/faviconV2?url=https://4kwallpapers.com&client=VFE&size=16&type=FAVICON&fallback_opts=TYPE,SIZE,URL&nfrp=2\n",
      "https://encrypted-tbn2.gstatic.com/faviconV2?url=https://cinejosh.com&client=VFE&size=16&type=FAVICON&fallback_opts=TYPE,SIZE,URL&nfrp=2\n",
      "https://encrypted-tbn2.gstatic.com/faviconV2?url=https://seetageeta.com&client=VFE&size=16&type=FAVICON&fallback_opts=TYPE,SIZE,URL&nfrp=2\n",
      "https://encrypted-tbn2.gstatic.com/faviconV2?url=https://socialnews.xyz&client=VFE&size=16&type=FAVICON&fallback_opts=TYPE,SIZE,URL&nfrp=2\n",
      "https://encrypted-tbn2.gstatic.com/faviconV2?url=https://glamsham.com&client=VFE&size=16&type=FAVICON&fallback_opts=TYPE,SIZE,URL&nfrp=2\n",
      "https://encrypted-tbn2.gstatic.com/faviconV2?url=https://filmibeat.com&client=VFE&size=16&type=FAVICON&fallback_opts=TYPE,SIZE,URL&nfrp=2\n",
      "https://encrypted-tbn2.gstatic.com/faviconV2?url=https://news18.com&client=VFE&size=16&type=FAVICON&fallback_opts=TYPE,SIZE,URL&nfrp=2\n",
      "https://encrypted-tbn2.gstatic.com/faviconV2?url=https://m.timesofindia.com&client=VFE&size=16&type=FAVICON&fallback_opts=TYPE,SIZE,URL&nfrp=2\n",
      "https://encrypted-tbn2.gstatic.com/faviconV2?url=https://pxfuel.com&client=VFE&size=16&type=FAVICON&fallback_opts=TYPE,SIZE,URL&nfrp=2\n",
      "https://encrypted-tbn2.gstatic.com/faviconV2?url=https://indiatoday.in&client=VFE&size=16&type=FAVICON&fallback_opts=TYPE,SIZE,URL&nfrp=2\n",
      "https://encrypted-tbn2.gstatic.com/faviconV2?url=https://filmfare.com&client=VFE&size=16&type=FAVICON&fallback_opts=TYPE,SIZE,URL&nfrp=2\n",
      "https://encrypted-tbn2.gstatic.com/faviconV2?url=https://herzindagi.com&client=VFE&size=16&type=FAVICON&fallback_opts=TYPE,SIZE,URL&nfrp=2\n",
      "https://encrypted-tbn2.gstatic.com/faviconV2?url=https://telugubulletin.com&client=VFE&size=16&type=FAVICON&fallback_opts=TYPE,SIZE,URL&nfrp=2\n",
      "https://encrypted-tbn2.gstatic.com/faviconV2?url=https://odishatv.in&client=VFE&size=16&type=FAVICON&fallback_opts=TYPE,SIZE,URL&nfrp=2\n",
      "https://encrypted-tbn2.gstatic.com/faviconV2?url=https://timesofindia.indiatimes.com&client=VFE&size=16&type=FAVICON&fallback_opts=TYPE,SIZE,URL&nfrp=2\n",
      "https://encrypted-tbn2.gstatic.com/faviconV2?url=https://bollywoodhungama.com&client=VFE&size=16&type=FAVICON&fallback_opts=TYPE,SIZE,URL&nfrp=2\n",
      "https://encrypted-tbn2.gstatic.com/faviconV2?url=https://reddit.com&client=VFE&size=16&type=FAVICON&fallback_opts=TYPE,SIZE,URL&nfrp=2\n",
      "https://encrypted-tbn2.gstatic.com/faviconV2?url=https://fitpaa.com&client=VFE&size=16&type=FAVICON&fallback_opts=TYPE,SIZE,URL&nfrp=2\n",
      "https://encrypted-tbn2.gstatic.com/faviconV2?url=https://indiatvnews.com&client=VFE&size=16&type=FAVICON&fallback_opts=TYPE,SIZE,URL&nfrp=2\n",
      "https://encrypted-tbn2.gstatic.com/faviconV2?url=https://newstrack.com&client=VFE&size=16&type=FAVICON&fallback_opts=TYPE,SIZE,URL&nfrp=2\n",
      "https://encrypted-tbn2.gstatic.com/faviconV2?url=https://filmyfocus.com&client=VFE&size=16&type=FAVICON&fallback_opts=TYPE,SIZE,URL&nfrp=2\n",
      "https://encrypted-tbn2.gstatic.com/faviconV2?url=https://zeenews.india.com&client=VFE&size=16&type=FAVICON&fallback_opts=TYPE,SIZE,URL&nfrp=2\n",
      "https://encrypted-tbn2.gstatic.com/faviconV2?url=https://hindustantimes.com&client=VFE&size=16&type=FAVICON&fallback_opts=TYPE,SIZE,URL&nfrp=2\n",
      "https://encrypted-tbn2.gstatic.com/faviconV2?url=https://gqindia.com&client=VFE&size=16&type=FAVICON&fallback_opts=TYPE,SIZE,URL&nfrp=2\n",
      "https://encrypted-tbn2.gstatic.com/faviconV2?url=https://pinkvilla.com&client=VFE&size=16&type=FAVICON&fallback_opts=TYPE,SIZE,URL&nfrp=2\n",
      "https://encrypted-tbn2.gstatic.com/faviconV2?url=https://cartoq.com&client=VFE&size=16&type=FAVICON&fallback_opts=TYPE,SIZE,URL&nfrp=2\n",
      "https://encrypted-tbn2.gstatic.com/faviconV2?url=https://koimoi.com&client=VFE&size=16&type=FAVICON&fallback_opts=TYPE,SIZE,URL&nfrp=2\n",
      "https://encrypted-tbn2.gstatic.com/faviconV2?url=https://reddit.com&client=VFE&size=16&type=FAVICON&fallback_opts=TYPE,SIZE,URL&nfrp=2\n",
      "https://encrypted-tbn2.gstatic.com/faviconV2?url=https://tellychakkar.com&client=VFE&size=16&type=FAVICON&fallback_opts=TYPE,SIZE,URL&nfrp=2\n",
      "https://encrypted-tbn2.gstatic.com/faviconV2?url=https://in.pinterest.com&client=VFE&size=16&type=FAVICON&fallback_opts=TYPE,SIZE,URL&nfrp=2\n",
      "https://encrypted-tbn2.gstatic.com/faviconV2?url=https://telanganatoday.com&client=VFE&size=16&type=FAVICON&fallback_opts=TYPE,SIZE,URL&nfrp=2\n",
      "https://encrypted-tbn2.gstatic.com/faviconV2?url=https://bollywoodhungama.com&client=VFE&size=16&type=FAVICON&fallback_opts=TYPE,SIZE,URL&nfrp=2\n",
      "https://encrypted-tbn2.gstatic.com/faviconV2?url=https://indiatoday.in&client=VFE&size=16&type=FAVICON&fallback_opts=TYPE,SIZE,URL&nfrp=2\n",
      "https://encrypted-tbn2.gstatic.com/faviconV2?url=https://vogue.in&client=VFE&size=16&type=FAVICON&fallback_opts=TYPE,SIZE,URL&nfrp=2\n",
      "https://encrypted-tbn2.gstatic.com/faviconV2?url=https://instagram.com&client=VFE&size=16&type=FAVICON&fallback_opts=TYPE,SIZE,URL&nfrp=2\n",
      "https://encrypted-tbn2.gstatic.com/faviconV2?url=https://in.pinterest.com&client=VFE&size=16&type=FAVICON&fallback_opts=TYPE,SIZE,URL&nfrp=2\n",
      "https://encrypted-tbn2.gstatic.com/faviconV2?url=https://bebeautiful.in&client=VFE&size=16&type=FAVICON&fallback_opts=TYPE,SIZE,URL&nfrp=2\n",
      "https://encrypted-tbn2.gstatic.com/faviconV2?url=https://indiaherald.com&client=VFE&size=16&type=FAVICON&fallback_opts=TYPE,SIZE,URL&nfrp=2\n",
      "https://encrypted-tbn2.gstatic.com/faviconV2?url=https://indiatvnews.com&client=VFE&size=16&type=FAVICON&fallback_opts=TYPE,SIZE,URL&nfrp=2\n",
      "https://encrypted-tbn2.gstatic.com/faviconV2?url=https://siasat.com&client=VFE&size=16&type=FAVICON&fallback_opts=TYPE,SIZE,URL&nfrp=2\n",
      "https://encrypted-tbn2.gstatic.com/faviconV2?url=https://iwmbuzz.com&client=VFE&size=16&type=FAVICON&fallback_opts=TYPE,SIZE,URL&nfrp=2\n",
      "https://encrypted-tbn2.gstatic.com/faviconV2?url=https://bollywoodlife.com&client=VFE&size=16&type=FAVICON&fallback_opts=TYPE,SIZE,URL&nfrp=2\n",
      "https://encrypted-tbn2.gstatic.com/faviconV2?url=https://telugucinema.com&client=VFE&size=16&type=FAVICON&fallback_opts=TYPE,SIZE,URL&nfrp=2\n",
      "https://encrypted-tbn2.gstatic.com/faviconV2?url=https://crickettimes.com&client=VFE&size=16&type=FAVICON&fallback_opts=TYPE,SIZE,URL&nfrp=2\n",
      "https://encrypted-tbn2.gstatic.com/faviconV2?url=https://koimoi.com&client=VFE&size=16&type=FAVICON&fallback_opts=TYPE,SIZE,URL&nfrp=2\n",
      "https://encrypted-tbn2.gstatic.com/faviconV2?url=https://telugu.hindustantimes.com&client=VFE&size=16&type=FAVICON&fallback_opts=TYPE,SIZE,URL&nfrp=2\n",
      "https://encrypted-tbn2.gstatic.com/faviconV2?url=https://abplive.com&client=VFE&size=16&type=FAVICON&fallback_opts=TYPE,SIZE,URL&nfrp=2\n",
      "https://encrypted-tbn2.gstatic.com/faviconV2?url=https://ndtv.com&client=VFE&size=16&type=FAVICON&fallback_opts=TYPE,SIZE,URL&nfrp=2\n",
      "https://encrypted-tbn2.gstatic.com/faviconV2?url=https://lifestyleasia.com&client=VFE&size=16&type=FAVICON&fallback_opts=TYPE,SIZE,URL&nfrp=2\n",
      "https://encrypted-tbn2.gstatic.com/faviconV2?url=https://gqindia.com&client=VFE&size=16&type=FAVICON&fallback_opts=TYPE,SIZE,URL&nfrp=2\n",
      "https://encrypted-tbn2.gstatic.com/faviconV2?url=https://slurrp.com&client=VFE&size=16&type=FAVICON&fallback_opts=TYPE,SIZE,URL&nfrp=2\n",
      "https://encrypted-tbn2.gstatic.com/faviconV2?url=https://freepressjournal.in&client=VFE&size=16&type=FAVICON&fallback_opts=TYPE,SIZE,URL&nfrp=2\n",
      "https://encrypted-tbn2.gstatic.com/faviconV2?url=https://zeenews.india.com&client=VFE&size=16&type=FAVICON&fallback_opts=TYPE,SIZE,URL&nfrp=2\n",
      "https://encrypted-tbn2.gstatic.com/faviconV2?url=https://bebeautiful.in&client=VFE&size=16&type=FAVICON&fallback_opts=TYPE,SIZE,URL&nfrp=2\n",
      "https://encrypted-tbn2.gstatic.com/faviconV2?url=https://odishatv.in&client=VFE&size=16&type=FAVICON&fallback_opts=TYPE,SIZE,URL&nfrp=2\n",
      "https://encrypted-tbn2.gstatic.com/faviconV2?url=https://indiatoday.in&client=VFE&size=16&type=FAVICON&fallback_opts=TYPE,SIZE,URL&nfrp=2\n",
      "https://encrypted-tbn2.gstatic.com/faviconV2?url=https://auto.hindustantimes.com&client=VFE&size=16&type=FAVICON&fallback_opts=TYPE,SIZE,URL&nfrp=2\n",
      "https://encrypted-tbn2.gstatic.com/faviconV2?url=https://filmyfocus.com&client=VFE&size=16&type=FAVICON&fallback_opts=TYPE,SIZE,URL&nfrp=2\n",
      "https://encrypted-tbn2.gstatic.com/faviconV2?url=https://timesnownews.com&client=VFE&size=16&type=FAVICON&fallback_opts=TYPE,SIZE,URL&nfrp=2\n",
      "https://encrypted-tbn2.gstatic.com/faviconV2?url=https://vogue.in&client=VFE&size=16&type=FAVICON&fallback_opts=TYPE,SIZE,URL&nfrp=2\n",
      "https://encrypted-tbn2.gstatic.com/faviconV2?url=https://filmcompanion.in&client=VFE&size=16&type=FAVICON&fallback_opts=TYPE,SIZE,URL&nfrp=2\n",
      "https://encrypted-tbn2.gstatic.com/faviconV2?url=https://m.economictimes.com&client=VFE&size=16&type=FAVICON&fallback_opts=TYPE,SIZE,URL&nfrp=2\n",
      "https://encrypted-tbn2.gstatic.com/faviconV2?url=https://indiaherald.com&client=VFE&size=16&type=FAVICON&fallback_opts=TYPE,SIZE,URL&nfrp=2\n",
      "https://encrypted-tbn2.gstatic.com/faviconV2?url=https://zeenews.india.com&client=VFE&size=16&type=FAVICON&fallback_opts=TYPE,SIZE,URL&nfrp=2\n",
      "https://encrypted-tbn2.gstatic.com/faviconV2?url=https://pinkvilla.com&client=VFE&size=16&type=FAVICON&fallback_opts=TYPE,SIZE,URL&nfrp=2\n",
      "https://encrypted-tbn2.gstatic.com/faviconV2?url=https://gettyimages.com&client=VFE&size=16&type=FAVICON&fallback_opts=TYPE,SIZE,URL&nfrp=2\n",
      "https://encrypted-tbn2.gstatic.com/faviconV2?url=https://cartoq.com&client=VFE&size=16&type=FAVICON&fallback_opts=TYPE,SIZE,URL&nfrp=2\n",
      "https://encrypted-tbn2.gstatic.com/faviconV2?url=https://prokerala.com&client=VFE&size=16&type=FAVICON&fallback_opts=TYPE,SIZE,URL&nfrp=2\n",
      "https://encrypted-tbn2.gstatic.com/faviconV2?url=https://filmibeat.com&client=VFE&size=16&type=FAVICON&fallback_opts=TYPE,SIZE,URL&nfrp=2\n",
      "https://encrypted-tbn2.gstatic.com/faviconV2?url=https://indiatvnews.com&client=VFE&size=16&type=FAVICON&fallback_opts=TYPE,SIZE,URL&nfrp=2\n",
      "https://encrypted-tbn2.gstatic.com/faviconV2?url=https://instagram.com&client=VFE&size=16&type=FAVICON&fallback_opts=TYPE,SIZE,URL&nfrp=2\n",
      "https://encrypted-tbn2.gstatic.com/faviconV2?url=https://bollywoodhungama.com&client=VFE&size=16&type=FAVICON&fallback_opts=TYPE,SIZE,URL&nfrp=2\n",
      "https://encrypted-tbn2.gstatic.com/faviconV2?url=https://m.youtube.com&client=VFE&size=16&type=FAVICON&fallback_opts=TYPE,SIZE,URL&nfrp=2\n",
      "https://encrypted-tbn2.gstatic.com/faviconV2?url=https://indiatoday.in&client=VFE&size=16&type=FAVICON&fallback_opts=TYPE,SIZE,URL&nfrp=2\n",
      "https://encrypted-tbn2.gstatic.com/faviconV2?url=https://zeenews.india.com&client=VFE&size=16&type=FAVICON&fallback_opts=TYPE,SIZE,URL&nfrp=2\n",
      "https://encrypted-tbn2.gstatic.com/faviconV2?url=https://m.economictimes.com&client=VFE&size=16&type=FAVICON&fallback_opts=TYPE,SIZE,URL&nfrp=2\n",
      "https://encrypted-tbn2.gstatic.com/faviconV2?url=https://freepressjournal.in&client=VFE&size=16&type=FAVICON&fallback_opts=TYPE,SIZE,URL&nfrp=2\n",
      "https://encrypted-tbn2.gstatic.com/faviconV2?url=https://hindi.timesxp.com&client=VFE&size=16&type=FAVICON&fallback_opts=TYPE,SIZE,URL&nfrp=2\n",
      "https://encrypted-tbn2.gstatic.com/faviconV2?url=https://reddit.com&client=VFE&size=16&type=FAVICON&fallback_opts=TYPE,SIZE,URL&nfrp=2\n",
      "https://encrypted-tbn2.gstatic.com/faviconV2?url=https://filmyfocus.com&client=VFE&size=16&type=FAVICON&fallback_opts=TYPE,SIZE,URL&nfrp=2\n",
      "https://encrypted-tbn2.gstatic.com/faviconV2?url=https://facebook.com&client=VFE&size=16&type=FAVICON&fallback_opts=TYPE,SIZE,URL&nfrp=2\n",
      "https://encrypted-tbn2.gstatic.com/faviconV2?url=https://filmcompanion.in&client=VFE&size=16&type=FAVICON&fallback_opts=TYPE,SIZE,URL&nfrp=2\n",
      "https://encrypted-tbn2.gstatic.com/faviconV2?url=https://koimoi.com&client=VFE&size=16&type=FAVICON&fallback_opts=TYPE,SIZE,URL&nfrp=2\n",
      "https://encrypted-tbn2.gstatic.com/faviconV2?url=https://outlookindia.com&client=VFE&size=16&type=FAVICON&fallback_opts=TYPE,SIZE,URL&nfrp=2\n",
      "https://encrypted-tbn2.gstatic.com/faviconV2?url=https://dnaindia.com&client=VFE&size=16&type=FAVICON&fallback_opts=TYPE,SIZE,URL&nfrp=2\n",
      "https://encrypted-tbn2.gstatic.com/faviconV2?url=https://freepressjournal.in&client=VFE&size=16&type=FAVICON&fallback_opts=TYPE,SIZE,URL&nfrp=2\n",
      "https://encrypted-tbn2.gstatic.com/faviconV2?url=https://news18.com&client=VFE&size=16&type=FAVICON&fallback_opts=TYPE,SIZE,URL&nfrp=2\n",
      "https://encrypted-tbn2.gstatic.com/faviconV2?url=https://india.com&client=VFE&size=16&type=FAVICON&fallback_opts=TYPE,SIZE,URL&nfrp=2\n",
      "https://encrypted-tbn2.gstatic.com/faviconV2?url=https://indiatoday.in&client=VFE&size=16&type=FAVICON&fallback_opts=TYPE,SIZE,URL&nfrp=2\n",
      "https://encrypted-tbn2.gstatic.com/faviconV2?url=https://lifestyleasia.com&client=VFE&size=16&type=FAVICON&fallback_opts=TYPE,SIZE,URL&nfrp=2\n",
      "https://encrypted-tbn2.gstatic.com/faviconV2?url=https://m.timesofindia.com&client=VFE&size=16&type=FAVICON&fallback_opts=TYPE,SIZE,URL&nfrp=2\n",
      "https://encrypted-tbn2.gstatic.com/faviconV2?url=https://bollywoodlife.com&client=VFE&size=16&type=FAVICON&fallback_opts=TYPE,SIZE,URL&nfrp=2\n",
      "https://encrypted-tbn2.gstatic.com/faviconV2?url=https://mid-day.com&client=VFE&size=16&type=FAVICON&fallback_opts=TYPE,SIZE,URL&nfrp=2\n",
      "https://encrypted-tbn2.gstatic.com/faviconV2?url=https://freepressjournal.in&client=VFE&size=16&type=FAVICON&fallback_opts=TYPE,SIZE,URL&nfrp=2\n",
      "https://encrypted-tbn2.gstatic.com/faviconV2?url=https://m.youtube.com&client=VFE&size=16&type=FAVICON&fallback_opts=TYPE,SIZE,URL&nfrp=2\n",
      "https://encrypted-tbn2.gstatic.com/faviconV2?url=https://kitekeka.com&client=VFE&size=16&type=FAVICON&fallback_opts=TYPE,SIZE,URL&nfrp=2\n",
      "https://encrypted-tbn2.gstatic.com/faviconV2?url=https://architecturaldigest.in&client=VFE&size=16&type=FAVICON&fallback_opts=TYPE,SIZE,URL&nfrp=2\n",
      "https://encrypted-tbn2.gstatic.com/faviconV2?url=https://m.timesofindia.com&client=VFE&size=16&type=FAVICON&fallback_opts=TYPE,SIZE,URL&nfrp=2\n",
      "https://encrypted-tbn2.gstatic.com/faviconV2?url=https://southindiafashion.com&client=VFE&size=16&type=FAVICON&fallback_opts=TYPE,SIZE,URL&nfrp=2\n",
      "https://encrypted-tbn2.gstatic.com/faviconV2?url=https://m9.news&client=VFE&size=16&type=FAVICON&fallback_opts=TYPE,SIZE,URL&nfrp=2\n",
      "https://encrypted-tbn2.gstatic.com/faviconV2?url=https://pinkvilla.com&client=VFE&size=16&type=FAVICON&fallback_opts=TYPE,SIZE,URL&nfrp=2\n",
      "https://encrypted-tbn2.gstatic.com/faviconV2?url=https://filmfare.com&client=VFE&size=16&type=FAVICON&fallback_opts=TYPE,SIZE,URL&nfrp=2\n",
      "https://encrypted-tbn2.gstatic.com/faviconV2?url=https://indiatvnews.com&client=VFE&size=16&type=FAVICON&fallback_opts=TYPE,SIZE,URL&nfrp=2\n",
      "https://encrypted-tbn2.gstatic.com/faviconV2?url=https://indiaherald.com&client=VFE&size=16&type=FAVICON&fallback_opts=TYPE,SIZE,URL&nfrp=2\n",
      "https://encrypted-tbn2.gstatic.com/faviconV2?url=https://tv9marathi.com&client=VFE&size=16&type=FAVICON&fallback_opts=TYPE,SIZE,URL&nfrp=2\n",
      "https://encrypted-tbn2.gstatic.com/faviconV2?url=https://vogue.in&client=VFE&size=16&type=FAVICON&fallback_opts=TYPE,SIZE,URL&nfrp=2\n",
      "https://encrypted-tbn2.gstatic.com/faviconV2?url=https://timesnownews.com&client=VFE&size=16&type=FAVICON&fallback_opts=TYPE,SIZE,URL&nfrp=2\n",
      "https://encrypted-tbn2.gstatic.com/faviconV2?url=https://bollywoodlife.com&client=VFE&size=16&type=FAVICON&fallback_opts=TYPE,SIZE,URL&nfrp=2\n",
      "https://encrypted-tbn2.gstatic.com/faviconV2?url=https://bollywoodshaadis.com&client=VFE&size=16&type=FAVICON&fallback_opts=TYPE,SIZE,URL&nfrp=2\n",
      "https://encrypted-tbn2.gstatic.com/faviconV2?url=https://gulte.com&client=VFE&size=16&type=FAVICON&fallback_opts=TYPE,SIZE,URL&nfrp=2\n",
      "https://encrypted-tbn2.gstatic.com/faviconV2?url=https://dnaindia.com&client=VFE&size=16&type=FAVICON&fallback_opts=TYPE,SIZE,URL&nfrp=2\n",
      "https://encrypted-tbn2.gstatic.com/faviconV2?url=https://news18.com&client=VFE&size=16&type=FAVICON&fallback_opts=TYPE,SIZE,URL&nfrp=2\n",
      "https://encrypted-tbn2.gstatic.com/faviconV2?url=https://freepressjournal.in&client=VFE&size=16&type=FAVICON&fallback_opts=TYPE,SIZE,URL&nfrp=2\n",
      "https://encrypted-tbn2.gstatic.com/faviconV2?url=https://tupaki.com&client=VFE&size=16&type=FAVICON&fallback_opts=TYPE,SIZE,URL&nfrp=2\n",
      "https://encrypted-tbn2.gstatic.com/faviconV2?url=https://indiaherald.com&client=VFE&size=16&type=FAVICON&fallback_opts=TYPE,SIZE,URL&nfrp=2\n",
      "https://encrypted-tbn2.gstatic.com/faviconV2?url=https://indiatvnews.com&client=VFE&size=16&type=FAVICON&fallback_opts=TYPE,SIZE,URL&nfrp=2\n",
      "https://encrypted-tbn2.gstatic.com/faviconV2?url=https://m.timesofindia.com&client=VFE&size=16&type=FAVICON&fallback_opts=TYPE,SIZE,URL&nfrp=2\n",
      "https://encrypted-tbn2.gstatic.com/faviconV2?url=https://outlookindia.com&client=VFE&size=16&type=FAVICON&fallback_opts=TYPE,SIZE,URL&nfrp=2\n",
      "https://encrypted-tbn2.gstatic.com/faviconV2?url=https://m.youtube.com&client=VFE&size=16&type=FAVICON&fallback_opts=TYPE,SIZE,URL&nfrp=2\n",
      "https://encrypted-tbn2.gstatic.com/faviconV2?url=https://m.economictimes.com&client=VFE&size=16&type=FAVICON&fallback_opts=TYPE,SIZE,URL&nfrp=2\n",
      "https://encrypted-tbn2.gstatic.com/faviconV2?url=https://bollywoodlife.com&client=VFE&size=16&type=FAVICON&fallback_opts=TYPE,SIZE,URL&nfrp=2\n",
      "https://encrypted-tbn2.gstatic.com/faviconV2?url=https://indiaherald.com&client=VFE&size=16&type=FAVICON&fallback_opts=TYPE,SIZE,URL&nfrp=2\n",
      "https://encrypted-tbn2.gstatic.com/faviconV2?url=https://telanganatoday.com&client=VFE&size=16&type=FAVICON&fallback_opts=TYPE,SIZE,URL&nfrp=2\n",
      "https://encrypted-tbn2.gstatic.com/faviconV2?url=https://telugu.hindustantimes.com&client=VFE&size=16&type=FAVICON&fallback_opts=TYPE,SIZE,URL&nfrp=2\n",
      "https://encrypted-tbn2.gstatic.com/faviconV2?url=https://hindiactress.in&client=VFE&size=16&type=FAVICON&fallback_opts=TYPE,SIZE,URL&nfrp=2\n"
     ]
    }
   ],
   "source": [
    "wait.until(presence_of_all_elements_located((By.TAG_NAME,\"img\")))\n",
    "wait.until(element_attribute_to_include((By.TAG_NAME,\"img\"),\"src\"))\n",
    "elements = driver.find_elements(By.TAG_NAME,\"img\")\n",
    "links = []\n",
    "for element in elements:\n",
    "    link = element.get_attribute(\"src\")\n",
    "    if link is None:                                                                              # or not link.startswith(common_link):\n",
    "        continue \n",
    "    \n",
    "    if link.startswith(common_link):\n",
    "        links.append(link)\n",
    "    \n",
    "    elif link.startswith(\"data:image\"):\n",
    "        lnk = link[link.find(\"/9j\"):]\n",
    "        links.append(lnk)\n",
    "    \n",
    "    else:\n",
    "        print(link)"
   ]
  },
  {
   "cell_type": "code",
   "execution_count": 55,
   "metadata": {},
   "outputs": [
    {
     "name": "stdout",
     "output_type": "stream",
     "text": [
      "389 images found\n"
     ]
    }
   ],
   "source": [
    "print(len(links),\"images found\")"
   ]
  },
  {
   "cell_type": "code",
   "execution_count": 58,
   "metadata": {},
   "outputs": [
    {
     "data": {
      "text/plain": [
       "'d:\\\\My Apps\\\\Google-Images-Downloader-All'"
      ]
     },
     "execution_count": 58,
     "metadata": {},
     "output_type": "execute_result"
    }
   ],
   "source": [
    "cwd = getcwd()\n",
    "cwd"
   ]
  },
  {
   "cell_type": "code",
   "execution_count": 61,
   "metadata": {},
   "outputs": [],
   "source": [
    "folder_path = join(cwd,\"Images\",query)\n",
    "if not isdir(folder_path):\n",
    "    makedirs(folder_path)"
   ]
  },
  {
   "cell_type": "code",
   "execution_count": 62,
   "metadata": {},
   "outputs": [
    {
     "ename": "KeyboardInterrupt",
     "evalue": "",
     "output_type": "error",
     "traceback": [
      "\u001b[1;31m---------------------------------------------------------------------------\u001b[0m",
      "\u001b[1;31mKeyboardInterrupt\u001b[0m                         Traceback (most recent call last)",
      "Cell \u001b[1;32mIn[62], line 5\u001b[0m\n\u001b[0;32m      2\u001b[0m path \u001b[38;5;241m=\u001b[39m join(folder_path,\u001b[38;5;28mstr\u001b[39m(index)\u001b[38;5;241m+\u001b[39m\u001b[38;5;124m\"\u001b[39m\u001b[38;5;124m.png\u001b[39m\u001b[38;5;124m\"\u001b[39m)\n\u001b[0;32m      4\u001b[0m \u001b[38;5;28;01mif\u001b[39;00m link\u001b[38;5;241m.\u001b[39mstartswith(\u001b[38;5;124m\"\u001b[39m\u001b[38;5;124mhttp\u001b[39m\u001b[38;5;124m\"\u001b[39m):\n\u001b[1;32m----> 5\u001b[0m     img \u001b[38;5;241m=\u001b[39m \u001b[43mio\u001b[49m\u001b[38;5;241;43m.\u001b[39;49m\u001b[43mimread\u001b[49m\u001b[43m(\u001b[49m\u001b[43mlink\u001b[49m\u001b[43m)\u001b[49m\n\u001b[0;32m      6\u001b[0m     img \u001b[38;5;241m=\u001b[39m cvtColor(img,COLOR_BGR2RGB)\n\u001b[0;32m      9\u001b[0m \u001b[38;5;28;01melif\u001b[39;00m link\u001b[38;5;241m.\u001b[39mstartswith(\u001b[38;5;124m\"\u001b[39m\u001b[38;5;124m/9j\u001b[39m\u001b[38;5;124m\"\u001b[39m):\n",
      "File \u001b[1;32md:\\My Apps\\Google-Images-Downloader-All\\venv\\Lib\\site-packages\\skimage\\io\\_io.py:52\u001b[0m, in \u001b[0;36mimread\u001b[1;34m(fname, as_gray, plugin, **plugin_args)\u001b[0m\n\u001b[0;32m     49\u001b[0m     \u001b[38;5;28;01mif\u001b[39;00m fname\u001b[38;5;241m.\u001b[39mlower()\u001b[38;5;241m.\u001b[39mendswith((\u001b[38;5;124m'\u001b[39m\u001b[38;5;124m.tiff\u001b[39m\u001b[38;5;124m'\u001b[39m, \u001b[38;5;124m'\u001b[39m\u001b[38;5;124m.tif\u001b[39m\u001b[38;5;124m'\u001b[39m)):\n\u001b[0;32m     50\u001b[0m         plugin \u001b[38;5;241m=\u001b[39m \u001b[38;5;124m'\u001b[39m\u001b[38;5;124mtifffile\u001b[39m\u001b[38;5;124m'\u001b[39m\n\u001b[1;32m---> 52\u001b[0m \u001b[43m\u001b[49m\u001b[38;5;28;43;01mwith\u001b[39;49;00m\u001b[43m \u001b[49m\u001b[43mfile_or_url_context\u001b[49m\u001b[43m(\u001b[49m\u001b[43mfname\u001b[49m\u001b[43m)\u001b[49m\u001b[43m \u001b[49m\u001b[38;5;28;43;01mas\u001b[39;49;00m\u001b[43m \u001b[49m\u001b[43mfname\u001b[49m\u001b[43m:\u001b[49m\n\u001b[0;32m     53\u001b[0m \u001b[43m    \u001b[49m\u001b[43mimg\u001b[49m\u001b[43m \u001b[49m\u001b[38;5;241;43m=\u001b[39;49m\u001b[43m \u001b[49m\u001b[43mcall_plugin\u001b[49m\u001b[43m(\u001b[49m\u001b[38;5;124;43m'\u001b[39;49m\u001b[38;5;124;43mimread\u001b[39;49m\u001b[38;5;124;43m'\u001b[39;49m\u001b[43m,\u001b[49m\u001b[43m \u001b[49m\u001b[43mfname\u001b[49m\u001b[43m,\u001b[49m\u001b[43m \u001b[49m\u001b[43mplugin\u001b[49m\u001b[38;5;241;43m=\u001b[39;49m\u001b[43mplugin\u001b[49m\u001b[43m,\u001b[49m\u001b[43m \u001b[49m\u001b[38;5;241;43m*\u001b[39;49m\u001b[38;5;241;43m*\u001b[39;49m\u001b[43mplugin_args\u001b[49m\u001b[43m)\u001b[49m\n\u001b[0;32m     55\u001b[0m \u001b[38;5;28;01mif\u001b[39;00m \u001b[38;5;129;01mnot\u001b[39;00m \u001b[38;5;28mhasattr\u001b[39m(img, \u001b[38;5;124m'\u001b[39m\u001b[38;5;124mndim\u001b[39m\u001b[38;5;124m'\u001b[39m):\n",
      "File \u001b[1;32mD:\\Python 3.12\\Lib\\contextlib.py:137\u001b[0m, in \u001b[0;36m_GeneratorContextManager.__enter__\u001b[1;34m(self)\u001b[0m\n\u001b[0;32m    135\u001b[0m \u001b[38;5;28;01mdel\u001b[39;00m \u001b[38;5;28mself\u001b[39m\u001b[38;5;241m.\u001b[39margs, \u001b[38;5;28mself\u001b[39m\u001b[38;5;241m.\u001b[39mkwds, \u001b[38;5;28mself\u001b[39m\u001b[38;5;241m.\u001b[39mfunc\n\u001b[0;32m    136\u001b[0m \u001b[38;5;28;01mtry\u001b[39;00m:\n\u001b[1;32m--> 137\u001b[0m     \u001b[38;5;28;01mreturn\u001b[39;00m \u001b[38;5;28;43mnext\u001b[39;49m\u001b[43m(\u001b[49m\u001b[38;5;28;43mself\u001b[39;49m\u001b[38;5;241;43m.\u001b[39;49m\u001b[43mgen\u001b[49m\u001b[43m)\u001b[49m\n\u001b[0;32m    138\u001b[0m \u001b[38;5;28;01mexcept\u001b[39;00m \u001b[38;5;167;01mStopIteration\u001b[39;00m:\n\u001b[0;32m    139\u001b[0m     \u001b[38;5;28;01mraise\u001b[39;00m \u001b[38;5;167;01mRuntimeError\u001b[39;00m(\u001b[38;5;124m\"\u001b[39m\u001b[38;5;124mgenerator didn\u001b[39m\u001b[38;5;124m'\u001b[39m\u001b[38;5;124mt yield\u001b[39m\u001b[38;5;124m\"\u001b[39m) \u001b[38;5;28;01mfrom\u001b[39;00m \u001b[38;5;28;01mNone\u001b[39;00m\n",
      "File \u001b[1;32md:\\My Apps\\Google-Images-Downloader-All\\venv\\Lib\\site-packages\\skimage\\io\\util.py:28\u001b[0m, in \u001b[0;36mfile_or_url_context\u001b[1;34m(resource_name)\u001b[0m\n\u001b[0;32m     26\u001b[0m \u001b[38;5;28;01mtry\u001b[39;00m:\n\u001b[0;32m     27\u001b[0m     \u001b[38;5;28;01mwith\u001b[39;00m tempfile\u001b[38;5;241m.\u001b[39mNamedTemporaryFile(delete\u001b[38;5;241m=\u001b[39m\u001b[38;5;28;01mFalse\u001b[39;00m, suffix\u001b[38;5;241m=\u001b[39mext) \u001b[38;5;28;01mas\u001b[39;00m f:\n\u001b[1;32m---> 28\u001b[0m         \u001b[38;5;28;01mwith\u001b[39;00m \u001b[43murllib\u001b[49m\u001b[38;5;241;43m.\u001b[39;49m\u001b[43mrequest\u001b[49m\u001b[38;5;241;43m.\u001b[39;49m\u001b[43murlopen\u001b[49m\u001b[43m(\u001b[49m\u001b[43mresource_name\u001b[49m\u001b[43m)\u001b[49m \u001b[38;5;28;01mas\u001b[39;00m u:\n\u001b[0;32m     29\u001b[0m             f\u001b[38;5;241m.\u001b[39mwrite(u\u001b[38;5;241m.\u001b[39mread())\n\u001b[0;32m     30\u001b[0m     \u001b[38;5;66;03m# f must be closed before yielding\u001b[39;00m\n",
      "File \u001b[1;32mD:\\Python 3.12\\Lib\\urllib\\request.py:215\u001b[0m, in \u001b[0;36murlopen\u001b[1;34m(url, data, timeout, cafile, capath, cadefault, context)\u001b[0m\n\u001b[0;32m    213\u001b[0m \u001b[38;5;28;01melse\u001b[39;00m:\n\u001b[0;32m    214\u001b[0m     opener \u001b[38;5;241m=\u001b[39m _opener\n\u001b[1;32m--> 215\u001b[0m \u001b[38;5;28;01mreturn\u001b[39;00m \u001b[43mopener\u001b[49m\u001b[38;5;241;43m.\u001b[39;49m\u001b[43mopen\u001b[49m\u001b[43m(\u001b[49m\u001b[43murl\u001b[49m\u001b[43m,\u001b[49m\u001b[43m \u001b[49m\u001b[43mdata\u001b[49m\u001b[43m,\u001b[49m\u001b[43m \u001b[49m\u001b[43mtimeout\u001b[49m\u001b[43m)\u001b[49m\n",
      "File \u001b[1;32mD:\\Python 3.12\\Lib\\urllib\\request.py:515\u001b[0m, in \u001b[0;36mOpenerDirector.open\u001b[1;34m(self, fullurl, data, timeout)\u001b[0m\n\u001b[0;32m    512\u001b[0m     req \u001b[38;5;241m=\u001b[39m meth(req)\n\u001b[0;32m    514\u001b[0m sys\u001b[38;5;241m.\u001b[39maudit(\u001b[38;5;124m'\u001b[39m\u001b[38;5;124murllib.Request\u001b[39m\u001b[38;5;124m'\u001b[39m, req\u001b[38;5;241m.\u001b[39mfull_url, req\u001b[38;5;241m.\u001b[39mdata, req\u001b[38;5;241m.\u001b[39mheaders, req\u001b[38;5;241m.\u001b[39mget_method())\n\u001b[1;32m--> 515\u001b[0m response \u001b[38;5;241m=\u001b[39m \u001b[38;5;28;43mself\u001b[39;49m\u001b[38;5;241;43m.\u001b[39;49m\u001b[43m_open\u001b[49m\u001b[43m(\u001b[49m\u001b[43mreq\u001b[49m\u001b[43m,\u001b[49m\u001b[43m \u001b[49m\u001b[43mdata\u001b[49m\u001b[43m)\u001b[49m\n\u001b[0;32m    517\u001b[0m \u001b[38;5;66;03m# post-process response\u001b[39;00m\n\u001b[0;32m    518\u001b[0m meth_name \u001b[38;5;241m=\u001b[39m protocol\u001b[38;5;241m+\u001b[39m\u001b[38;5;124m\"\u001b[39m\u001b[38;5;124m_response\u001b[39m\u001b[38;5;124m\"\u001b[39m\n",
      "File \u001b[1;32mD:\\Python 3.12\\Lib\\urllib\\request.py:532\u001b[0m, in \u001b[0;36mOpenerDirector._open\u001b[1;34m(self, req, data)\u001b[0m\n\u001b[0;32m    529\u001b[0m     \u001b[38;5;28;01mreturn\u001b[39;00m result\n\u001b[0;32m    531\u001b[0m protocol \u001b[38;5;241m=\u001b[39m req\u001b[38;5;241m.\u001b[39mtype\n\u001b[1;32m--> 532\u001b[0m result \u001b[38;5;241m=\u001b[39m \u001b[38;5;28;43mself\u001b[39;49m\u001b[38;5;241;43m.\u001b[39;49m\u001b[43m_call_chain\u001b[49m\u001b[43m(\u001b[49m\u001b[38;5;28;43mself\u001b[39;49m\u001b[38;5;241;43m.\u001b[39;49m\u001b[43mhandle_open\u001b[49m\u001b[43m,\u001b[49m\u001b[43m \u001b[49m\u001b[43mprotocol\u001b[49m\u001b[43m,\u001b[49m\u001b[43m \u001b[49m\u001b[43mprotocol\u001b[49m\u001b[43m \u001b[49m\u001b[38;5;241;43m+\u001b[39;49m\n\u001b[0;32m    533\u001b[0m \u001b[43m                          \u001b[49m\u001b[38;5;124;43m'\u001b[39;49m\u001b[38;5;124;43m_open\u001b[39;49m\u001b[38;5;124;43m'\u001b[39;49m\u001b[43m,\u001b[49m\u001b[43m \u001b[49m\u001b[43mreq\u001b[49m\u001b[43m)\u001b[49m\n\u001b[0;32m    534\u001b[0m \u001b[38;5;28;01mif\u001b[39;00m result:\n\u001b[0;32m    535\u001b[0m     \u001b[38;5;28;01mreturn\u001b[39;00m result\n",
      "File \u001b[1;32mD:\\Python 3.12\\Lib\\urllib\\request.py:492\u001b[0m, in \u001b[0;36mOpenerDirector._call_chain\u001b[1;34m(self, chain, kind, meth_name, *args)\u001b[0m\n\u001b[0;32m    490\u001b[0m \u001b[38;5;28;01mfor\u001b[39;00m handler \u001b[38;5;129;01min\u001b[39;00m handlers:\n\u001b[0;32m    491\u001b[0m     func \u001b[38;5;241m=\u001b[39m \u001b[38;5;28mgetattr\u001b[39m(handler, meth_name)\n\u001b[1;32m--> 492\u001b[0m     result \u001b[38;5;241m=\u001b[39m \u001b[43mfunc\u001b[49m\u001b[43m(\u001b[49m\u001b[38;5;241;43m*\u001b[39;49m\u001b[43margs\u001b[49m\u001b[43m)\u001b[49m\n\u001b[0;32m    493\u001b[0m     \u001b[38;5;28;01mif\u001b[39;00m result \u001b[38;5;129;01mis\u001b[39;00m \u001b[38;5;129;01mnot\u001b[39;00m \u001b[38;5;28;01mNone\u001b[39;00m:\n\u001b[0;32m    494\u001b[0m         \u001b[38;5;28;01mreturn\u001b[39;00m result\n",
      "File \u001b[1;32mD:\\Python 3.12\\Lib\\urllib\\request.py:1392\u001b[0m, in \u001b[0;36mHTTPSHandler.https_open\u001b[1;34m(self, req)\u001b[0m\n\u001b[0;32m   1391\u001b[0m \u001b[38;5;28;01mdef\u001b[39;00m \u001b[38;5;21mhttps_open\u001b[39m(\u001b[38;5;28mself\u001b[39m, req):\n\u001b[1;32m-> 1392\u001b[0m     \u001b[38;5;28;01mreturn\u001b[39;00m \u001b[38;5;28;43mself\u001b[39;49m\u001b[38;5;241;43m.\u001b[39;49m\u001b[43mdo_open\u001b[49m\u001b[43m(\u001b[49m\u001b[43mhttp\u001b[49m\u001b[38;5;241;43m.\u001b[39;49m\u001b[43mclient\u001b[49m\u001b[38;5;241;43m.\u001b[39;49m\u001b[43mHTTPSConnection\u001b[49m\u001b[43m,\u001b[49m\u001b[43m \u001b[49m\u001b[43mreq\u001b[49m\u001b[43m,\u001b[49m\n\u001b[0;32m   1393\u001b[0m \u001b[43m                        \u001b[49m\u001b[43mcontext\u001b[49m\u001b[38;5;241;43m=\u001b[39;49m\u001b[38;5;28;43mself\u001b[39;49m\u001b[38;5;241;43m.\u001b[39;49m\u001b[43m_context\u001b[49m\u001b[43m)\u001b[49m\n",
      "File \u001b[1;32mD:\\Python 3.12\\Lib\\urllib\\request.py:1344\u001b[0m, in \u001b[0;36mAbstractHTTPHandler.do_open\u001b[1;34m(self, http_class, req, **http_conn_args)\u001b[0m\n\u001b[0;32m   1342\u001b[0m \u001b[38;5;28;01mtry\u001b[39;00m:\n\u001b[0;32m   1343\u001b[0m     \u001b[38;5;28;01mtry\u001b[39;00m:\n\u001b[1;32m-> 1344\u001b[0m         \u001b[43mh\u001b[49m\u001b[38;5;241;43m.\u001b[39;49m\u001b[43mrequest\u001b[49m\u001b[43m(\u001b[49m\u001b[43mreq\u001b[49m\u001b[38;5;241;43m.\u001b[39;49m\u001b[43mget_method\u001b[49m\u001b[43m(\u001b[49m\u001b[43m)\u001b[49m\u001b[43m,\u001b[49m\u001b[43m \u001b[49m\u001b[43mreq\u001b[49m\u001b[38;5;241;43m.\u001b[39;49m\u001b[43mselector\u001b[49m\u001b[43m,\u001b[49m\u001b[43m \u001b[49m\u001b[43mreq\u001b[49m\u001b[38;5;241;43m.\u001b[39;49m\u001b[43mdata\u001b[49m\u001b[43m,\u001b[49m\u001b[43m \u001b[49m\u001b[43mheaders\u001b[49m\u001b[43m,\u001b[49m\n\u001b[0;32m   1345\u001b[0m \u001b[43m                  \u001b[49m\u001b[43mencode_chunked\u001b[49m\u001b[38;5;241;43m=\u001b[39;49m\u001b[43mreq\u001b[49m\u001b[38;5;241;43m.\u001b[39;49m\u001b[43mhas_header\u001b[49m\u001b[43m(\u001b[49m\u001b[38;5;124;43m'\u001b[39;49m\u001b[38;5;124;43mTransfer-encoding\u001b[39;49m\u001b[38;5;124;43m'\u001b[39;49m\u001b[43m)\u001b[49m\u001b[43m)\u001b[49m\n\u001b[0;32m   1346\u001b[0m     \u001b[38;5;28;01mexcept\u001b[39;00m \u001b[38;5;167;01mOSError\u001b[39;00m \u001b[38;5;28;01mas\u001b[39;00m err: \u001b[38;5;66;03m# timeout error\u001b[39;00m\n\u001b[0;32m   1347\u001b[0m         \u001b[38;5;28;01mraise\u001b[39;00m URLError(err)\n",
      "File \u001b[1;32mD:\\Python 3.12\\Lib\\http\\client.py:1319\u001b[0m, in \u001b[0;36mHTTPConnection.request\u001b[1;34m(self, method, url, body, headers, encode_chunked)\u001b[0m\n\u001b[0;32m   1316\u001b[0m \u001b[38;5;28;01mdef\u001b[39;00m \u001b[38;5;21mrequest\u001b[39m(\u001b[38;5;28mself\u001b[39m, method, url, body\u001b[38;5;241m=\u001b[39m\u001b[38;5;28;01mNone\u001b[39;00m, headers\u001b[38;5;241m=\u001b[39m{}, \u001b[38;5;241m*\u001b[39m,\n\u001b[0;32m   1317\u001b[0m             encode_chunked\u001b[38;5;241m=\u001b[39m\u001b[38;5;28;01mFalse\u001b[39;00m):\n\u001b[0;32m   1318\u001b[0m \u001b[38;5;250m    \u001b[39m\u001b[38;5;124;03m\"\"\"Send a complete request to the server.\"\"\"\u001b[39;00m\n\u001b[1;32m-> 1319\u001b[0m     \u001b[38;5;28;43mself\u001b[39;49m\u001b[38;5;241;43m.\u001b[39;49m\u001b[43m_send_request\u001b[49m\u001b[43m(\u001b[49m\u001b[43mmethod\u001b[49m\u001b[43m,\u001b[49m\u001b[43m \u001b[49m\u001b[43murl\u001b[49m\u001b[43m,\u001b[49m\u001b[43m \u001b[49m\u001b[43mbody\u001b[49m\u001b[43m,\u001b[49m\u001b[43m \u001b[49m\u001b[43mheaders\u001b[49m\u001b[43m,\u001b[49m\u001b[43m \u001b[49m\u001b[43mencode_chunked\u001b[49m\u001b[43m)\u001b[49m\n",
      "File \u001b[1;32mD:\\Python 3.12\\Lib\\http\\client.py:1365\u001b[0m, in \u001b[0;36mHTTPConnection._send_request\u001b[1;34m(self, method, url, body, headers, encode_chunked)\u001b[0m\n\u001b[0;32m   1361\u001b[0m \u001b[38;5;28;01mif\u001b[39;00m \u001b[38;5;28misinstance\u001b[39m(body, \u001b[38;5;28mstr\u001b[39m):\n\u001b[0;32m   1362\u001b[0m     \u001b[38;5;66;03m# RFC 2616 Section 3.7.1 says that text default has a\u001b[39;00m\n\u001b[0;32m   1363\u001b[0m     \u001b[38;5;66;03m# default charset of iso-8859-1.\u001b[39;00m\n\u001b[0;32m   1364\u001b[0m     body \u001b[38;5;241m=\u001b[39m _encode(body, \u001b[38;5;124m'\u001b[39m\u001b[38;5;124mbody\u001b[39m\u001b[38;5;124m'\u001b[39m)\n\u001b[1;32m-> 1365\u001b[0m \u001b[38;5;28;43mself\u001b[39;49m\u001b[38;5;241;43m.\u001b[39;49m\u001b[43mendheaders\u001b[49m\u001b[43m(\u001b[49m\u001b[43mbody\u001b[49m\u001b[43m,\u001b[49m\u001b[43m \u001b[49m\u001b[43mencode_chunked\u001b[49m\u001b[38;5;241;43m=\u001b[39;49m\u001b[43mencode_chunked\u001b[49m\u001b[43m)\u001b[49m\n",
      "File \u001b[1;32mD:\\Python 3.12\\Lib\\http\\client.py:1314\u001b[0m, in \u001b[0;36mHTTPConnection.endheaders\u001b[1;34m(self, message_body, encode_chunked)\u001b[0m\n\u001b[0;32m   1312\u001b[0m \u001b[38;5;28;01melse\u001b[39;00m:\n\u001b[0;32m   1313\u001b[0m     \u001b[38;5;28;01mraise\u001b[39;00m CannotSendHeader()\n\u001b[1;32m-> 1314\u001b[0m \u001b[38;5;28;43mself\u001b[39;49m\u001b[38;5;241;43m.\u001b[39;49m\u001b[43m_send_output\u001b[49m\u001b[43m(\u001b[49m\u001b[43mmessage_body\u001b[49m\u001b[43m,\u001b[49m\u001b[43m \u001b[49m\u001b[43mencode_chunked\u001b[49m\u001b[38;5;241;43m=\u001b[39;49m\u001b[43mencode_chunked\u001b[49m\u001b[43m)\u001b[49m\n",
      "File \u001b[1;32mD:\\Python 3.12\\Lib\\http\\client.py:1074\u001b[0m, in \u001b[0;36mHTTPConnection._send_output\u001b[1;34m(self, message_body, encode_chunked)\u001b[0m\n\u001b[0;32m   1072\u001b[0m msg \u001b[38;5;241m=\u001b[39m \u001b[38;5;124mb\u001b[39m\u001b[38;5;124m\"\u001b[39m\u001b[38;5;130;01m\\r\u001b[39;00m\u001b[38;5;130;01m\\n\u001b[39;00m\u001b[38;5;124m\"\u001b[39m\u001b[38;5;241m.\u001b[39mjoin(\u001b[38;5;28mself\u001b[39m\u001b[38;5;241m.\u001b[39m_buffer)\n\u001b[0;32m   1073\u001b[0m \u001b[38;5;28;01mdel\u001b[39;00m \u001b[38;5;28mself\u001b[39m\u001b[38;5;241m.\u001b[39m_buffer[:]\n\u001b[1;32m-> 1074\u001b[0m \u001b[38;5;28;43mself\u001b[39;49m\u001b[38;5;241;43m.\u001b[39;49m\u001b[43msend\u001b[49m\u001b[43m(\u001b[49m\u001b[43mmsg\u001b[49m\u001b[43m)\u001b[49m\n\u001b[0;32m   1076\u001b[0m \u001b[38;5;28;01mif\u001b[39;00m message_body \u001b[38;5;129;01mis\u001b[39;00m \u001b[38;5;129;01mnot\u001b[39;00m \u001b[38;5;28;01mNone\u001b[39;00m:\n\u001b[0;32m   1077\u001b[0m \n\u001b[0;32m   1078\u001b[0m     \u001b[38;5;66;03m# create a consistent interface to message_body\u001b[39;00m\n\u001b[0;32m   1079\u001b[0m     \u001b[38;5;28;01mif\u001b[39;00m \u001b[38;5;28mhasattr\u001b[39m(message_body, \u001b[38;5;124m'\u001b[39m\u001b[38;5;124mread\u001b[39m\u001b[38;5;124m'\u001b[39m):\n\u001b[0;32m   1080\u001b[0m         \u001b[38;5;66;03m# Let file-like take precedence over byte-like.  This\u001b[39;00m\n\u001b[0;32m   1081\u001b[0m         \u001b[38;5;66;03m# is needed to allow the current position of mmap'ed\u001b[39;00m\n\u001b[0;32m   1082\u001b[0m         \u001b[38;5;66;03m# files to be taken into account.\u001b[39;00m\n",
      "File \u001b[1;32mD:\\Python 3.12\\Lib\\http\\client.py:1018\u001b[0m, in \u001b[0;36mHTTPConnection.send\u001b[1;34m(self, data)\u001b[0m\n\u001b[0;32m   1016\u001b[0m \u001b[38;5;28;01mif\u001b[39;00m \u001b[38;5;28mself\u001b[39m\u001b[38;5;241m.\u001b[39msock \u001b[38;5;129;01mis\u001b[39;00m \u001b[38;5;28;01mNone\u001b[39;00m:\n\u001b[0;32m   1017\u001b[0m     \u001b[38;5;28;01mif\u001b[39;00m \u001b[38;5;28mself\u001b[39m\u001b[38;5;241m.\u001b[39mauto_open:\n\u001b[1;32m-> 1018\u001b[0m         \u001b[38;5;28;43mself\u001b[39;49m\u001b[38;5;241;43m.\u001b[39;49m\u001b[43mconnect\u001b[49m\u001b[43m(\u001b[49m\u001b[43m)\u001b[49m\n\u001b[0;32m   1019\u001b[0m     \u001b[38;5;28;01melse\u001b[39;00m:\n\u001b[0;32m   1020\u001b[0m         \u001b[38;5;28;01mraise\u001b[39;00m NotConnected()\n",
      "File \u001b[1;32mD:\\Python 3.12\\Lib\\http\\client.py:1460\u001b[0m, in \u001b[0;36mHTTPSConnection.connect\u001b[1;34m(self)\u001b[0m\n\u001b[0;32m   1457\u001b[0m \u001b[38;5;28;01melse\u001b[39;00m:\n\u001b[0;32m   1458\u001b[0m     server_hostname \u001b[38;5;241m=\u001b[39m \u001b[38;5;28mself\u001b[39m\u001b[38;5;241m.\u001b[39mhost\n\u001b[1;32m-> 1460\u001b[0m \u001b[38;5;28mself\u001b[39m\u001b[38;5;241m.\u001b[39msock \u001b[38;5;241m=\u001b[39m \u001b[38;5;28;43mself\u001b[39;49m\u001b[38;5;241;43m.\u001b[39;49m\u001b[43m_context\u001b[49m\u001b[38;5;241;43m.\u001b[39;49m\u001b[43mwrap_socket\u001b[49m\u001b[43m(\u001b[49m\u001b[38;5;28;43mself\u001b[39;49m\u001b[38;5;241;43m.\u001b[39;49m\u001b[43msock\u001b[49m\u001b[43m,\u001b[49m\n\u001b[0;32m   1461\u001b[0m \u001b[43m                                      \u001b[49m\u001b[43mserver_hostname\u001b[49m\u001b[38;5;241;43m=\u001b[39;49m\u001b[43mserver_hostname\u001b[49m\u001b[43m)\u001b[49m\n",
      "File \u001b[1;32mD:\\Python 3.12\\Lib\\ssl.py:455\u001b[0m, in \u001b[0;36mSSLContext.wrap_socket\u001b[1;34m(self, sock, server_side, do_handshake_on_connect, suppress_ragged_eofs, server_hostname, session)\u001b[0m\n\u001b[0;32m    449\u001b[0m \u001b[38;5;28;01mdef\u001b[39;00m \u001b[38;5;21mwrap_socket\u001b[39m(\u001b[38;5;28mself\u001b[39m, sock, server_side\u001b[38;5;241m=\u001b[39m\u001b[38;5;28;01mFalse\u001b[39;00m,\n\u001b[0;32m    450\u001b[0m                 do_handshake_on_connect\u001b[38;5;241m=\u001b[39m\u001b[38;5;28;01mTrue\u001b[39;00m,\n\u001b[0;32m    451\u001b[0m                 suppress_ragged_eofs\u001b[38;5;241m=\u001b[39m\u001b[38;5;28;01mTrue\u001b[39;00m,\n\u001b[0;32m    452\u001b[0m                 server_hostname\u001b[38;5;241m=\u001b[39m\u001b[38;5;28;01mNone\u001b[39;00m, session\u001b[38;5;241m=\u001b[39m\u001b[38;5;28;01mNone\u001b[39;00m):\n\u001b[0;32m    453\u001b[0m     \u001b[38;5;66;03m# SSLSocket class handles server_hostname encoding before it calls\u001b[39;00m\n\u001b[0;32m    454\u001b[0m     \u001b[38;5;66;03m# ctx._wrap_socket()\u001b[39;00m\n\u001b[1;32m--> 455\u001b[0m     \u001b[38;5;28;01mreturn\u001b[39;00m \u001b[38;5;28;43mself\u001b[39;49m\u001b[38;5;241;43m.\u001b[39;49m\u001b[43msslsocket_class\u001b[49m\u001b[38;5;241;43m.\u001b[39;49m\u001b[43m_create\u001b[49m\u001b[43m(\u001b[49m\n\u001b[0;32m    456\u001b[0m \u001b[43m        \u001b[49m\u001b[43msock\u001b[49m\u001b[38;5;241;43m=\u001b[39;49m\u001b[43msock\u001b[49m\u001b[43m,\u001b[49m\n\u001b[0;32m    457\u001b[0m \u001b[43m        \u001b[49m\u001b[43mserver_side\u001b[49m\u001b[38;5;241;43m=\u001b[39;49m\u001b[43mserver_side\u001b[49m\u001b[43m,\u001b[49m\n\u001b[0;32m    458\u001b[0m \u001b[43m        \u001b[49m\u001b[43mdo_handshake_on_connect\u001b[49m\u001b[38;5;241;43m=\u001b[39;49m\u001b[43mdo_handshake_on_connect\u001b[49m\u001b[43m,\u001b[49m\n\u001b[0;32m    459\u001b[0m \u001b[43m        \u001b[49m\u001b[43msuppress_ragged_eofs\u001b[49m\u001b[38;5;241;43m=\u001b[39;49m\u001b[43msuppress_ragged_eofs\u001b[49m\u001b[43m,\u001b[49m\n\u001b[0;32m    460\u001b[0m \u001b[43m        \u001b[49m\u001b[43mserver_hostname\u001b[49m\u001b[38;5;241;43m=\u001b[39;49m\u001b[43mserver_hostname\u001b[49m\u001b[43m,\u001b[49m\n\u001b[0;32m    461\u001b[0m \u001b[43m        \u001b[49m\u001b[43mcontext\u001b[49m\u001b[38;5;241;43m=\u001b[39;49m\u001b[38;5;28;43mself\u001b[39;49m\u001b[43m,\u001b[49m\n\u001b[0;32m    462\u001b[0m \u001b[43m        \u001b[49m\u001b[43msession\u001b[49m\u001b[38;5;241;43m=\u001b[39;49m\u001b[43msession\u001b[49m\n\u001b[0;32m    463\u001b[0m \u001b[43m    \u001b[49m\u001b[43m)\u001b[49m\n",
      "File \u001b[1;32mD:\\Python 3.12\\Lib\\ssl.py:1046\u001b[0m, in \u001b[0;36mSSLSocket._create\u001b[1;34m(cls, sock, server_side, do_handshake_on_connect, suppress_ragged_eofs, server_hostname, context, session)\u001b[0m\n\u001b[0;32m   1043\u001b[0m         \u001b[38;5;28;01mif\u001b[39;00m timeout \u001b[38;5;241m==\u001b[39m \u001b[38;5;241m0.0\u001b[39m:\n\u001b[0;32m   1044\u001b[0m             \u001b[38;5;66;03m# non-blocking\u001b[39;00m\n\u001b[0;32m   1045\u001b[0m             \u001b[38;5;28;01mraise\u001b[39;00m \u001b[38;5;167;01mValueError\u001b[39;00m(\u001b[38;5;124m\"\u001b[39m\u001b[38;5;124mdo_handshake_on_connect should not be specified for non-blocking sockets\u001b[39m\u001b[38;5;124m\"\u001b[39m)\n\u001b[1;32m-> 1046\u001b[0m         \u001b[38;5;28;43mself\u001b[39;49m\u001b[38;5;241;43m.\u001b[39;49m\u001b[43mdo_handshake\u001b[49m\u001b[43m(\u001b[49m\u001b[43m)\u001b[49m\n\u001b[0;32m   1047\u001b[0m \u001b[38;5;28;01mexcept\u001b[39;00m (\u001b[38;5;167;01mOSError\u001b[39;00m, \u001b[38;5;167;01mValueError\u001b[39;00m):\n\u001b[0;32m   1048\u001b[0m     \u001b[38;5;28mself\u001b[39m\u001b[38;5;241m.\u001b[39mclose()\n",
      "File \u001b[1;32mD:\\Python 3.12\\Lib\\ssl.py:1317\u001b[0m, in \u001b[0;36mSSLSocket.do_handshake\u001b[1;34m(self, block)\u001b[0m\n\u001b[0;32m   1315\u001b[0m     \u001b[38;5;28;01mif\u001b[39;00m timeout \u001b[38;5;241m==\u001b[39m \u001b[38;5;241m0.0\u001b[39m \u001b[38;5;129;01mand\u001b[39;00m block:\n\u001b[0;32m   1316\u001b[0m         \u001b[38;5;28mself\u001b[39m\u001b[38;5;241m.\u001b[39msettimeout(\u001b[38;5;28;01mNone\u001b[39;00m)\n\u001b[1;32m-> 1317\u001b[0m     \u001b[38;5;28;43mself\u001b[39;49m\u001b[38;5;241;43m.\u001b[39;49m\u001b[43m_sslobj\u001b[49m\u001b[38;5;241;43m.\u001b[39;49m\u001b[43mdo_handshake\u001b[49m\u001b[43m(\u001b[49m\u001b[43m)\u001b[49m\n\u001b[0;32m   1318\u001b[0m \u001b[38;5;28;01mfinally\u001b[39;00m:\n\u001b[0;32m   1319\u001b[0m     \u001b[38;5;28mself\u001b[39m\u001b[38;5;241m.\u001b[39msettimeout(timeout)\n",
      "\u001b[1;31mKeyboardInterrupt\u001b[0m: "
     ]
    }
   ],
   "source": [
    "for index,link in enumerate(links):\n",
    "    path = join(folder_path,str(index)+\".png\")\n",
    "\n",
    "    if link.startswith(\"http\"):\n",
    "        img = io.imread(link)\n",
    "        img = cvtColor(img,COLOR_BGR2RGB)\n",
    "        \n",
    "\n",
    "    elif link.startswith(\"/9j\"):\n",
    "        img = imdecode(frombuffer(urlsafe_b64decode(link),uint8),IMREAD_COLOR)\n",
    "    \n",
    "    imshow(\"Frame\",resize(img,(500,500)))\n",
    "    imwrite(path,img)\n",
    "    waitKey(1)\n",
    "\n",
    "destroyAllWindows()"
   ]
  },
  {
   "cell_type": "code",
   "execution_count": null,
   "metadata": {},
   "outputs": [],
   "source": [
    "destroyAllWindows()"
   ]
  },
  {
   "cell_type": "code",
   "execution_count": null,
   "metadata": {},
   "outputs": [],
   "source": [
    "#driver.close()\n",
    "#driver.quit()"
   ]
  }
 ],
 "metadata": {
  "kernelspec": {
   "display_name": "Python 3",
   "language": "python",
   "name": "python3"
  },
  "language_info": {
   "codemirror_mode": {
    "name": "ipython",
    "version": 3
   },
   "file_extension": ".py",
   "mimetype": "text/x-python",
   "name": "python",
   "nbconvert_exporter": "python",
   "pygments_lexer": "ipython3",
   "version": "3.12.0"
  }
 },
 "nbformat": 4,
 "nbformat_minor": 2
}
